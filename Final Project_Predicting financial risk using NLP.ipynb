{
 "cells": [
  {
   "cell_type": "markdown",
   "id": "d991a1b6",
   "metadata": {},
   "source": [
    "# Final Project in Text Analysis and Natural Language Processing"
   ]
  },
  {
   "cell_type": "markdown",
   "id": "b8c2122c",
   "metadata": {},
   "source": [
    "### Title: Predicting financial risk using NLP, a sentiment and entity based approach"
   ]
  },
  {
   "cell_type": "markdown",
   "id": "6d803eab",
   "metadata": {},
   "source": [
    "#### Table of contents:\n",
    "\n",
    "\n",
    "<a href='#web_scrape'>1. Webscraping the data from the Google News </a><br>\n",
    "    \n",
    "<a href='#data_cleaning'>2. Text Cleaning & Deduplication</a>\n",
    "\n",
    "<a href='#text_pre'>3. Text Preprocessing</a>\t\n",
    "\n",
    "<a href='#sent_ana'>4. Sentiment Analysis with VADER </a>\n",
    "\n",
    "<a href='#fin_ana'>5. Sentiment Analysis with FinBERT </a>"
   ]
  },
  {
   "cell_type": "markdown",
   "id": "fe8f4944",
   "metadata": {},
   "source": [
    "### Importing the needed libraries"
   ]
  },
  {
   "cell_type": "markdown",
   "id": "27d29d43",
   "metadata": {},
   "source": [
    "Here we are importing the libraries that I will be needing for the further analysis:"
   ]
  },
  {
   "cell_type": "code",
   "execution_count": null,
   "id": "a4378449",
   "metadata": {},
   "outputs": [
    {
     "ename": "",
     "evalue": "",
     "output_type": "error",
     "traceback": [
      "\u001b[1;31mRunning cells with 'finbert_env (Python 3.12.7)' requires the ipykernel package.\n",
      "\u001b[1;31m<a href='command:jupyter.createPythonEnvAndSelectController'>Create a Python Environment</a> with the required packages.\n",
      "\u001b[1;31mOr install 'ipykernel' using the command: '\"c:/Users/Mustafa Ansari/finbert_env/Scripts/python.exe\" -m pip install ipykernel -U --force-reinstall'"
     ]
    }
   ],
   "source": [
    "# Importing libraries to scrap\n",
    "\n",
    "from serpapi import GoogleSearch\n",
    "import pandas as pd\n",
    "from datetime import datetime, timedelta\n",
    "import time\n",
    "import re\n",
    "\n",
    "# Importing libraries for text preprocossing \n",
    "import nltk\n",
    "from nltk.corpus import stopwords\n",
    "from nltk.tokenize import word_tokenize\n",
    "from nltk.stem import WordNetLemmatizer\n",
    "\n",
    "# Importing library for VADAR Sentiment Analysis\n",
    "!pip install vaderSentiment\n",
    "from vaderSentiment.vaderSentiment import SentimentIntensityAnalyzer\n",
    "\n",
    "#importin libraries for Visualization\n",
    "import matplotlib.pyplot as plt\n",
    "import seaborn as sns\n",
    "\n",
    "# Importing library for FinBERT Sentiment Analysis\n",
    "from transformers import AutoTokenizer, AutoModelForSequenceClassification\n",
    "from transformers import pipeline\n",
    "!pip install torch\n",
    "!pip install torch torchvision torchaudio\n",
    "import torch\n",
    "from tqdm import tqdm\n",
    "import requests\n",
    "\n"
   ]
  },
  {
   "cell_type": "markdown",
   "id": "7107abca",
   "metadata": {},
   "source": [
    "## Webscraping the data from the Independent newspaper <a id='web_scrape'></a>"
   ]
  },
  {
   "cell_type": "markdown",
   "id": "56a8d8dd",
   "metadata": {},
   "source": [
    "In this code snippet i have tried to scrap recent financial news headlines and a short description of the news using SerpAPI (Google News API) for the following companies:\n",
    "\n",
    "- Apple\n",
    "- Tesla\n",
    "- Nvidia\n",
    "- Amazon\n",
    "\n",
    "The objective is to retrieve high-quality, recent news headlines and snippets (within the last 90 days) that can be used for further Sentiment analysis, Entity recogntion and Risk Scoring. "
   ]
  },
  {
   "cell_type": "code",
   "execution_count": null,
   "id": "b1ee51e4",
   "metadata": {},
   "outputs": [],
   "source": [
    "# ✅ Step 1: Your SerpAPI Key\n",
    "API_KEY = \"--\"\n",
    "\n",
    "# ✅ Step 2: Parse Relative/Absolute Dates\n",
    "def parse_relative_date(text):\n",
    "    today = datetime.today()\n",
    "    try:\n",
    "        if re.search(r\"\\w{3,} \\d{1,2}, \\d{4}\", text):  # e.g. Apr 4, 2025\n",
    "            return datetime.strptime(text, \"%b %d, %Y\")\n",
    "        elif \"day\" in text:\n",
    "            days = int(re.search(r\"(\\d+)\", text).group(1))\n",
    "            return today - timedelta(days=days)\n",
    "        elif \"hour\" in text:\n",
    "            hours = int(re.search(r\"(\\d+)\", text).group(1))\n",
    "            return today - timedelta(hours=hours)\n",
    "        elif \"week\" in text:\n",
    "            weeks = int(re.search(r\"(\\d+)\", text).group(1))\n",
    "            return today - timedelta(weeks=weeks)\n",
    "        elif \"month\" in text:\n",
    "            months = int(re.search(r\"(\\d+)\", text).group(1))\n",
    "            return today - timedelta(days=30 * months)\n",
    "        else:\n",
    "            return None\n",
    "    except:\n",
    "        return None\n",
    "\n",
    "# ✅ Step 3: Scraper Function\n",
    "def scrape_serpapi_news(company, target_articles=600):\n",
    "    print(f\"🔍 Scraping {company}...\")\n",
    "    results = []\n",
    "    page = 0\n",
    "    collected = 0\n",
    "    today = datetime.today()\n",
    "    ninety_days_ago = today - timedelta(days=90)\n",
    "\n",
    "    while collected < target_articles:\n",
    "        params = {\n",
    "            \"engine\": \"google\",\n",
    "            \"q\": f\"{company} stock\",\n",
    "            \"tbm\": \"nws\",\n",
    "            \"api_key\": API_KEY,\n",
    "            \"num\": 100,\n",
    "            \"start\": page * 100,\n",
    "            \"tbs\": \"cdr:1,cd_min:1/14/2024,cd_max:4/14/2025\"\n",
    "        }\n",
    "\n",
    "        search = GoogleSearch(params)\n",
    "        response = search.get_dict()\n",
    "        news_results = response.get(\"news_results\", [])\n",
    "\n",
    "        if not news_results:\n",
    "            print(f\"⚠️ No more news results found at page {page} for {company}\")\n",
    "            break\n",
    "\n",
    "        for article in news_results:\n",
    "            pub_date_raw = article.get(\"date\")\n",
    "            parsed_date = parse_relative_date(pub_date_raw)\n",
    "\n",
    "            if parsed_date and parsed_date >= ninety_days_ago:\n",
    "                results.append({\n",
    "                    \"company\": company,\n",
    "                    \"title\": article.get(\"title\"),\n",
    "                    \"link\": article.get(\"link\"),\n",
    "                    \"snippet\": article.get(\"snippet\"),\n",
    "                    \"source\": article.get(\"source\"),\n",
    "                    \"published\": parsed_date.strftime(\"%m/%d/%Y\")\n",
    "                })\n",
    "\n",
    "        collected = len(results)\n",
    "        page += 1\n",
    "        time.sleep(1)\n",
    "\n",
    "    print(f\"✅ Collected {len(results)} valid articles for {company}\")\n",
    "    return pd.DataFrame(results[:target_articles])\n",
    "\n",
    "# ✅ Step 4: List of Companies\n",
    "companies = [\"Apple\", \"Tesla\", \"Nvidia\", \"Amazon\"]\n",
    "\n",
    "# ✅ Step 5: Scrape & Save\n",
    "all_dfs = []\n",
    "for company in companies:\n",
    "    df = scrape_serpapi_news(company, target_articles=600)\n",
    "    all_dfs.append(df)\n",
    "\n",
    "final_df = pd.concat(all_dfs, ignore_index=True)"
   ]
  },
  {
   "cell_type": "markdown",
   "id": "1ea5fd52",
   "metadata": {},
   "source": [
    "### Reading the data"
   ]
  },
  {
   "cell_type": "markdown",
   "id": "dfa9c097",
   "metadata": {},
   "source": [
    "For confidentiality purposes, i have hidden my API and have uploaded and read the data below:"
   ]
  },
  {
   "cell_type": "code",
   "execution_count": 3,
   "id": "9f001ba1",
   "metadata": {},
   "outputs": [],
   "source": [
    "final_df = pd.read_csv(\"C:\\\\Users\\\\Mustafa Ansari\\\\Downloads\\\\Scrapped Google News.csv\")"
   ]
  },
  {
   "cell_type": "code",
   "execution_count": 5,
   "id": "790d4712",
   "metadata": {},
   "outputs": [
    {
     "data": {
      "text/html": [
       "<div>\n",
       "<style scoped>\n",
       "    .dataframe tbody tr th:only-of-type {\n",
       "        vertical-align: middle;\n",
       "    }\n",
       "\n",
       "    .dataframe tbody tr th {\n",
       "        vertical-align: top;\n",
       "    }\n",
       "\n",
       "    .dataframe thead th {\n",
       "        text-align: right;\n",
       "    }\n",
       "</style>\n",
       "<table border=\"1\" class=\"dataframe\">\n",
       "  <thead>\n",
       "    <tr style=\"text-align: right;\">\n",
       "      <th></th>\n",
       "      <th>company</th>\n",
       "      <th>title</th>\n",
       "      <th>link</th>\n",
       "      <th>snippet</th>\n",
       "      <th>source</th>\n",
       "      <th>published</th>\n",
       "    </tr>\n",
       "  </thead>\n",
       "  <tbody>\n",
       "    <tr>\n",
       "      <th>0</th>\n",
       "      <td>Apple</td>\n",
       "      <td>Where Will Apple Stock Be In 5 Years?</td>\n",
       "      <td>https://www.forbes.com/sites/investor-hub/arti...</td>\n",
       "      <td>The shares currently trade approximately 12% b...</td>\n",
       "      <td>Forbes</td>\n",
       "      <td>03/15/2025</td>\n",
       "    </tr>\n",
       "    <tr>\n",
       "      <th>1</th>\n",
       "      <td>Apple</td>\n",
       "      <td>Apple Joins AI Data Center Race After Siri Mess</td>\n",
       "      <td>https://www.investors.com/news/technology/appl...</td>\n",
       "      <td>Apple is in the process of placing orders for ...</td>\n",
       "      <td>Investor's Business Daily</td>\n",
       "      <td>03/24/2025</td>\n",
       "    </tr>\n",
       "    <tr>\n",
       "      <th>2</th>\n",
       "      <td>Apple</td>\n",
       "      <td>How Bad Could Sustained Tariffs Be for Apple S...</td>\n",
       "      <td>https://www.morningstar.com/stocks/how-bad-cou...</td>\n",
       "      <td>If tariffs persist, Apple's profit margins cou...</td>\n",
       "      <td>Morningstar</td>\n",
       "      <td>04/09/2025</td>\n",
       "    </tr>\n",
       "    <tr>\n",
       "      <th>3</th>\n",
       "      <td>Apple</td>\n",
       "      <td>Analysts revisit Apple stock price targets as ...</td>\n",
       "      <td>https://www.thestreet.com/investing/analysts-r...</td>\n",
       "      <td>Wedbush analyst Dan Ives, a committed Apple bu...</td>\n",
       "      <td>TheStreet</td>\n",
       "      <td>03/24/2025</td>\n",
       "    </tr>\n",
       "    <tr>\n",
       "      <th>4</th>\n",
       "      <td>Apple</td>\n",
       "      <td>Watch These Apple Stock Price Levels Amid Tari...</td>\n",
       "      <td>https://www.investopedia.com/watch-these-apple...</td>\n",
       "      <td>Apple shares gained ground Wednesday after los...</td>\n",
       "      <td>Investopedia</td>\n",
       "      <td>04/09/2025</td>\n",
       "    </tr>\n",
       "  </tbody>\n",
       "</table>\n",
       "</div>"
      ],
      "text/plain": [
       "  company                                              title  \\\n",
       "0   Apple              Where Will Apple Stock Be In 5 Years?   \n",
       "1   Apple    Apple Joins AI Data Center Race After Siri Mess   \n",
       "2   Apple  How Bad Could Sustained Tariffs Be for Apple S...   \n",
       "3   Apple  Analysts revisit Apple stock price targets as ...   \n",
       "4   Apple  Watch These Apple Stock Price Levels Amid Tari...   \n",
       "\n",
       "                                                link  \\\n",
       "0  https://www.forbes.com/sites/investor-hub/arti...   \n",
       "1  https://www.investors.com/news/technology/appl...   \n",
       "2  https://www.morningstar.com/stocks/how-bad-cou...   \n",
       "3  https://www.thestreet.com/investing/analysts-r...   \n",
       "4  https://www.investopedia.com/watch-these-apple...   \n",
       "\n",
       "                                             snippet  \\\n",
       "0  The shares currently trade approximately 12% b...   \n",
       "1  Apple is in the process of placing orders for ...   \n",
       "2  If tariffs persist, Apple's profit margins cou...   \n",
       "3  Wedbush analyst Dan Ives, a committed Apple bu...   \n",
       "4  Apple shares gained ground Wednesday after los...   \n",
       "\n",
       "                      source   published  \n",
       "0                     Forbes  03/15/2025  \n",
       "1  Investor's Business Daily  03/24/2025  \n",
       "2                Morningstar  04/09/2025  \n",
       "3                  TheStreet  03/24/2025  \n",
       "4               Investopedia  04/09/2025  "
      ]
     },
     "execution_count": 5,
     "metadata": {},
     "output_type": "execute_result"
    }
   ],
   "source": [
    "final_df.head()"
   ]
  },
  {
   "cell_type": "markdown",
   "id": "2dfe878d",
   "metadata": {},
   "source": [
    "## Text Cleaning & Deduplication <a id='data_cleaning'></a>"
   ]
  },
  {
   "cell_type": "markdown",
   "id": "bb81efad",
   "metadata": {},
   "source": [
    "In this step, i have firstly combined title and snippet into a single column: text then dropped exact duplicates of combined text and dropped nulls and whitespace-only entries. Finally i have reset index for tidy output."
   ]
  },
  {
   "cell_type": "code",
   "execution_count": 4,
   "id": "37ed0ab5",
   "metadata": {},
   "outputs": [],
   "source": [
    "# Original Data\n",
    "original_count = len(final_df)\n",
    "df = final_df.copy()\n",
    "\n",
    "# STEP 1: Combine title + snippet\n",
    "df[\"text\"] = df[\"title\"].fillna(\"\") + \". \" + df[\"snippet\"].fillna(\"\")\n",
    "\n",
    "# STEP 2: Remove short/empty text\n",
    "df[\"text\"] = df[\"text\"].str.strip()\n",
    "before_empty_filter = len(df)\n",
    "df = df[df[\"text\"].str.len() > 10]\n",
    "after_empty_filter = len(df)\n",
    "empty_dropped = before_empty_filter - after_empty_filter\n",
    "\n",
    "# STEP 3: Remove exact duplicates\n",
    "before_dedup = len(df)\n",
    "df = df.drop_duplicates(subset=[\"text\"])\n",
    "after_dedup = len(df)\n",
    "duplicates_dropped = before_dedup - after_dedup\n",
    "\n",
    "# STEP 4: Reset index\n",
    "df = df.reset_index(drop=True)\n",
    "\n",
    "# Save cleaned version\n",
    "df.to_csv(r\"C:\\Users\\Mustafa Ansari\\Downloads\\news_cleaned_deduplicated.csv\", index=False)\n"
   ]
  },
  {
   "cell_type": "code",
   "execution_count": 5,
   "id": "218695d3",
   "metadata": {},
   "outputs": [
    {
     "name": "stdout",
     "output_type": "stream",
     "text": [
      "Cleaning Summary:\n",
      "• Original articles: 1929\n",
      "• Removed short/empty text: 0\n",
      "• Removed duplicates: 146\n",
      " Final cleaned articles: 1783\n"
     ]
    }
   ],
   "source": [
    "# Summary\n",
    "print(\"Cleaning Summary:\")\n",
    "print(f\"• Original articles: {original_count}\")\n",
    "print(f\"• Removed short/empty text: {empty_dropped}\")\n",
    "print(f\"• Removed duplicates: {duplicates_dropped}\")\n",
    "print(f\" Final cleaned articles: {len(df)}\")"
   ]
  },
  {
   "cell_type": "code",
   "execution_count": 6,
   "id": "0e692b7b",
   "metadata": {},
   "outputs": [
    {
     "data": {
      "text/html": [
       "<div>\n",
       "<style scoped>\n",
       "    .dataframe tbody tr th:only-of-type {\n",
       "        vertical-align: middle;\n",
       "    }\n",
       "\n",
       "    .dataframe tbody tr th {\n",
       "        vertical-align: top;\n",
       "    }\n",
       "\n",
       "    .dataframe thead th {\n",
       "        text-align: right;\n",
       "    }\n",
       "</style>\n",
       "<table border=\"1\" class=\"dataframe\">\n",
       "  <thead>\n",
       "    <tr style=\"text-align: right;\">\n",
       "      <th></th>\n",
       "      <th>company</th>\n",
       "      <th>title</th>\n",
       "      <th>link</th>\n",
       "      <th>snippet</th>\n",
       "      <th>source</th>\n",
       "      <th>published</th>\n",
       "      <th>text</th>\n",
       "    </tr>\n",
       "  </thead>\n",
       "  <tbody>\n",
       "    <tr>\n",
       "      <th>0</th>\n",
       "      <td>Apple</td>\n",
       "      <td>Where Will Apple Stock Be In 5 Years?</td>\n",
       "      <td>https://www.forbes.com/sites/investor-hub/arti...</td>\n",
       "      <td>The shares currently trade approximately 12% b...</td>\n",
       "      <td>Forbes</td>\n",
       "      <td>03/15/2025</td>\n",
       "      <td>Where Will Apple Stock Be In 5 Years?. The sha...</td>\n",
       "    </tr>\n",
       "    <tr>\n",
       "      <th>1</th>\n",
       "      <td>Apple</td>\n",
       "      <td>Apple Joins AI Data Center Race After Siri Mess</td>\n",
       "      <td>https://www.investors.com/news/technology/appl...</td>\n",
       "      <td>Apple is in the process of placing orders for ...</td>\n",
       "      <td>Investor's Business Daily</td>\n",
       "      <td>03/24/2025</td>\n",
       "      <td>Apple Joins AI Data Center Race After Siri Mes...</td>\n",
       "    </tr>\n",
       "    <tr>\n",
       "      <th>2</th>\n",
       "      <td>Apple</td>\n",
       "      <td>How Bad Could Sustained Tariffs Be for Apple S...</td>\n",
       "      <td>https://www.morningstar.com/stocks/how-bad-cou...</td>\n",
       "      <td>If tariffs persist, Apple's profit margins cou...</td>\n",
       "      <td>Morningstar</td>\n",
       "      <td>04/09/2025</td>\n",
       "      <td>How Bad Could Sustained Tariffs Be for Apple S...</td>\n",
       "    </tr>\n",
       "    <tr>\n",
       "      <th>3</th>\n",
       "      <td>Apple</td>\n",
       "      <td>Analysts revisit Apple stock price targets as ...</td>\n",
       "      <td>https://www.thestreet.com/investing/analysts-r...</td>\n",
       "      <td>Wedbush analyst Dan Ives, a committed Apple bu...</td>\n",
       "      <td>TheStreet</td>\n",
       "      <td>03/24/2025</td>\n",
       "      <td>Analysts revisit Apple stock price targets as ...</td>\n",
       "    </tr>\n",
       "    <tr>\n",
       "      <th>4</th>\n",
       "      <td>Apple</td>\n",
       "      <td>Watch These Apple Stock Price Levels Amid Tari...</td>\n",
       "      <td>https://www.investopedia.com/watch-these-apple...</td>\n",
       "      <td>Apple shares gained ground Wednesday after los...</td>\n",
       "      <td>Investopedia</td>\n",
       "      <td>04/09/2025</td>\n",
       "      <td>Watch These Apple Stock Price Levels Amid Tari...</td>\n",
       "    </tr>\n",
       "  </tbody>\n",
       "</table>\n",
       "</div>"
      ],
      "text/plain": [
       "  company                                              title  \\\n",
       "0   Apple              Where Will Apple Stock Be In 5 Years?   \n",
       "1   Apple    Apple Joins AI Data Center Race After Siri Mess   \n",
       "2   Apple  How Bad Could Sustained Tariffs Be for Apple S...   \n",
       "3   Apple  Analysts revisit Apple stock price targets as ...   \n",
       "4   Apple  Watch These Apple Stock Price Levels Amid Tari...   \n",
       "\n",
       "                                                link  \\\n",
       "0  https://www.forbes.com/sites/investor-hub/arti...   \n",
       "1  https://www.investors.com/news/technology/appl...   \n",
       "2  https://www.morningstar.com/stocks/how-bad-cou...   \n",
       "3  https://www.thestreet.com/investing/analysts-r...   \n",
       "4  https://www.investopedia.com/watch-these-apple...   \n",
       "\n",
       "                                             snippet  \\\n",
       "0  The shares currently trade approximately 12% b...   \n",
       "1  Apple is in the process of placing orders for ...   \n",
       "2  If tariffs persist, Apple's profit margins cou...   \n",
       "3  Wedbush analyst Dan Ives, a committed Apple bu...   \n",
       "4  Apple shares gained ground Wednesday after los...   \n",
       "\n",
       "                      source   published  \\\n",
       "0                     Forbes  03/15/2025   \n",
       "1  Investor's Business Daily  03/24/2025   \n",
       "2                Morningstar  04/09/2025   \n",
       "3                  TheStreet  03/24/2025   \n",
       "4               Investopedia  04/09/2025   \n",
       "\n",
       "                                                text  \n",
       "0  Where Will Apple Stock Be In 5 Years?. The sha...  \n",
       "1  Apple Joins AI Data Center Race After Siri Mes...  \n",
       "2  How Bad Could Sustained Tariffs Be for Apple S...  \n",
       "3  Analysts revisit Apple stock price targets as ...  \n",
       "4  Watch These Apple Stock Price Levels Amid Tari...  "
      ]
     },
     "execution_count": 6,
     "metadata": {},
     "output_type": "execute_result"
    }
   ],
   "source": [
    "df.head()"
   ]
  },
  {
   "cell_type": "markdown",
   "id": "636b60e5",
   "metadata": {},
   "source": [
    "## Text Preprocessing <a id='text_pre'></a>"
   ]
  },
  {
   "cell_type": "markdown",
   "id": "9186c979",
   "metadata": {},
   "source": [
    "**In this section the following text preprocessing steps have been implemented:**\n",
    "\n",
    "1.  Lowercasing\n",
    "\n",
    "2. Remove punctuation & special characters\n",
    "\n",
    "3.  Remove digits and extra whitespace\n",
    "\n",
    "4. Tokenize text (split into words)\n",
    "\n",
    "5. Remove stopwords (e.g., \"the\", \"is\", \"of\")\n",
    "\n",
    "6. Lemmatize words (e.g., “running” → “run”)\n"
   ]
  },
  {
   "cell_type": "code",
   "execution_count": 9,
   "id": "5f062e4c",
   "metadata": {},
   "outputs": [
    {
     "name": "stderr",
     "output_type": "stream",
     "text": [
      "[nltk_data] Downloading package punkt to C:\\Users\\Mustafa\n",
      "[nltk_data]     Ansari\\AppData\\Roaming\\nltk_data...\n",
      "[nltk_data]   Package punkt is already up-to-date!\n",
      "[nltk_data] Downloading package stopwords to C:\\Users\\Mustafa\n",
      "[nltk_data]     Ansari\\AppData\\Roaming\\nltk_data...\n",
      "[nltk_data]   Package stopwords is already up-to-date!\n",
      "[nltk_data] Downloading package wordnet to C:\\Users\\Mustafa\n",
      "[nltk_data]     Ansari\\AppData\\Roaming\\nltk_data...\n",
      "[nltk_data]   Package wordnet is already up-to-date!\n"
     ]
    },
    {
     "name": "stdout",
     "output_type": "stream",
     "text": [
      "     company                                         text_clean\n",
      "1432  Nvidia  nvidia stock could tech biggest bargain invest...\n",
      "848    Tesla  elon musk driven tesla stock cliff morgan stan...\n",
      "1481  Amazon  amazon stock expert argue pro con buying dip a...\n",
      "Preprocessed text saved to: news_preprocessed.csv\n"
     ]
    }
   ],
   "source": [
    "# Download NLTK resources (one-time)\n",
    "nltk.download(\"punkt\")\n",
    "nltk.download(\"stopwords\")\n",
    "nltk.download(\"wordnet\")\n",
    "\n",
    "# Setup\n",
    "stop_words = set(stopwords.words(\"english\"))\n",
    "lemmatizer = WordNetLemmatizer()\n",
    "\n",
    "def preprocess_text(text):\n",
    "    # 1. Lowercase\n",
    "    text = text.lower()\n",
    "\n",
    "    # 2. Remove URLs, special characters, digits\n",
    "    text = re.sub(r\"http\\S+|www\\S+|[^a-z\\s]\", \" \", text)\n",
    "\n",
    "    # 3. Tokenize\n",
    "    tokens = word_tokenize(text)\n",
    "\n",
    "    # 4. Remove stopwords\n",
    "    tokens = [t for t in tokens if t not in stop_words and len(t) > 2]\n",
    "\n",
    "    # 5. Lemmatize\n",
    "    tokens = [lemmatizer.lemmatize(t) for t in tokens]\n",
    "\n",
    "    # Return processed text as space-separated string\n",
    "    return \" \".join(tokens)\n",
    "\n",
    "# Apply to all texts\n",
    "df[\"text_clean\"] = df[\"text\"].apply(preprocess_text)\n",
    "\n",
    "# Preview\n",
    "print(df[[\"company\", \"text_clean\"]].sample(3))\n",
    "\n",
    "# Save for modeling\n",
    "df.to_csv(r\"C:\\Users\\Mustafa Ansari\\Downloads\\news_preprocessed.csv\", index=False)\n",
    "print(\"Preprocessed text saved to: news_preprocessed.csv\")"
   ]
  },
  {
   "cell_type": "markdown",
   "id": "7292226c",
   "metadata": {},
   "source": [
    "## Sentiment Analysis with VADER <a id='sent_ana'></a>"
   ]
  },
  {
   "cell_type": "markdown",
   "id": "47cffe61",
   "metadata": {},
   "source": [
    "To begin the sentiment analysis, we use **VADER (Valence Aware Dictionary and sEntiment Reasoner)** - a fast and interpretable rule-based model built specifically for short text like headlines or tweets.\n",
    "\n",
    "VADER is ideal for our dataset because:\n",
    "- It works well on finance-related headlines and snippets\n",
    "- It provides a **compound score** between -1 (negative) and +1 (positive)\n",
    "- It also returns **positive, neutral, and negative** proportions\n",
    "\n",
    "We'll compute the compound score and assign a sentiment label:\n",
    "- **Positive** if score ≥ 0.05  \n",
    "- **Negative** if score ≤ -0.05  \n",
    "- **Neutral** otherwise"
   ]
  },
  {
   "cell_type": "code",
   "execution_count": null,
   "id": "975693a9",
   "metadata": {},
   "outputs": [
    {
     "data": {
      "text/html": [
       "<div>\n",
       "<style scoped>\n",
       "    .dataframe tbody tr th:only-of-type {\n",
       "        vertical-align: middle;\n",
       "    }\n",
       "\n",
       "    .dataframe tbody tr th {\n",
       "        vertical-align: top;\n",
       "    }\n",
       "\n",
       "    .dataframe thead th {\n",
       "        text-align: right;\n",
       "    }\n",
       "</style>\n",
       "<table border=\"1\" class=\"dataframe\">\n",
       "  <thead>\n",
       "    <tr style=\"text-align: right;\">\n",
       "      <th></th>\n",
       "      <th>company</th>\n",
       "      <th>text_clean</th>\n",
       "      <th>vader_score</th>\n",
       "      <th>vader_label</th>\n",
       "    </tr>\n",
       "  </thead>\n",
       "  <tbody>\n",
       "    <tr>\n",
       "      <th>476</th>\n",
       "      <td>Tesla</td>\n",
       "      <td>tesla stock still cheap report monday adam jon...</td>\n",
       "      <td>-0.6369</td>\n",
       "      <td>negative</td>\n",
       "    </tr>\n",
       "    <tr>\n",
       "      <th>1571</th>\n",
       "      <td>Amazon</td>\n",
       "      <td>ups stock downgraded amazon likely going away ...</td>\n",
       "      <td>0.2023</td>\n",
       "      <td>positive</td>\n",
       "    </tr>\n",
       "    <tr>\n",
       "      <th>340</th>\n",
       "      <td>Apple</td>\n",
       "      <td>apple gain trump tariff reversal still pricey ...</td>\n",
       "      <td>0.7096</td>\n",
       "      <td>positive</td>\n",
       "    </tr>\n",
       "    <tr>\n",
       "      <th>1701</th>\n",
       "      <td>Amazon</td>\n",
       "      <td>apple amazon major nasdaq dow stock today expl...</td>\n",
       "      <td>0.1779</td>\n",
       "      <td>positive</td>\n",
       "    </tr>\n",
       "    <tr>\n",
       "      <th>1606</th>\n",
       "      <td>Amazon</td>\n",
       "      <td>amazon earnings recap stock fall guidance fall...</td>\n",
       "      <td>0.5574</td>\n",
       "      <td>positive</td>\n",
       "    </tr>\n",
       "  </tbody>\n",
       "</table>\n",
       "</div>"
      ],
      "text/plain": [
       "     company                                         text_clean  vader_score  \\\n",
       "476    Tesla  tesla stock still cheap report monday adam jon...      -0.6369   \n",
       "1571  Amazon  ups stock downgraded amazon likely going away ...       0.2023   \n",
       "340    Apple  apple gain trump tariff reversal still pricey ...       0.7096   \n",
       "1701  Amazon  apple amazon major nasdaq dow stock today expl...       0.1779   \n",
       "1606  Amazon  amazon earnings recap stock fall guidance fall...       0.5574   \n",
       "\n",
       "     vader_label  \n",
       "476     negative  \n",
       "1571    positive  \n",
       "340     positive  \n",
       "1701    positive  \n",
       "1606    positive  "
      ]
     },
     "execution_count": 14,
     "metadata": {},
     "output_type": "execute_result"
    }
   ],
   "source": [
    "# Initialize VADER\n",
    "analyzer = SentimentIntensityAnalyzer()\n",
    "\n",
    "# Function to get VADER sentiment score and label\n",
    "def get_vader_sentiment(text):\n",
    "    scores = analyzer.polarity_scores(text)\n",
    "    compound = scores['compound']\n",
    "    if compound >= 0.05:\n",
    "        label = 'positive'\n",
    "    elif compound <= -0.05:\n",
    "        label = 'negative'\n",
    "    else:\n",
    "        label = 'neutral'\n",
    "    return pd.Series([compound, label])\n",
    "\n",
    "# Apply to cleaned text\n",
    "df[[\"vader_score\", \"vader_label\"]] = df[\"text_clean\"].apply(get_vader_sentiment)\n",
    "\n",
    "# Preview\n",
    "df[[\"company\", \"text_clean\", \"vader_score\", \"vader_label\"]].sample(5)\n"
   ]
  },
  {
   "cell_type": "markdown",
   "id": "a5184669",
   "metadata": {},
   "source": [
    "**Each row now includes two new columns:**\n",
    "\n",
    "- `vader_score`: A numeric sentiment value between -1 (very negative) and +1 (very positive)\n",
    "- `vader_label`: A human-readable classification based on the score:\n",
    "\n",
    "  - **Positive** if score ≥ 0.05\n",
    "  - **Negative** if score ≤ -0.05\n",
    "  - **Neutral** if in between\n",
    "\n",
    "For example:\n",
    "- *A Tesla article with a score of **-0.63** is labeled **negative**, reflecting bearish tone.*\n",
    "- *An Amazon headline scored **0.20** is labeled **positive**, indicating optimistic sentiment.*\n",
    "\n",
    "This helps us quantify how financial news articles emotionally frame events and companies.\n"
   ]
  },
  {
   "cell_type": "markdown",
   "id": "dd6ab280",
   "metadata": {},
   "source": [
    "### VADER Sentiment Distribution by Company\n",
    "\n",
    "To get an overview of sentiment trends, we group the sentiment labels by company and count how many headlines were classified as **positive**, **neutral**, or **negative**.\n",
    "\n",
    "This helps us understand:\n",
    "1.  Which companies are receiving more positive vs. negative coverage\n",
    "2. How the tone of financial news varies across companies\n"
   ]
  },
  {
   "cell_type": "code",
   "execution_count": 17,
   "id": "61295979",
   "metadata": {},
   "outputs": [
    {
     "data": {
      "image/png": "[encoded data removed]",
      "text/plain": [
       "<Figure size 1000x600 with 1 Axes>"
      ]
     },
     "metadata": {},
     "output_type": "display_data"
    }
   ],
   "source": [
    "\n",
    "\n",
    "# Set up plot style\n",
    "sns.set(style=\"whitegrid\")\n",
    "\n",
    "# Group and count sentiments by company\n",
    "sentiment_counts = df.groupby([\"company\", \"vader_label\"]).size().reset_index(name=\"count\")\n",
    "\n",
    "# Sort label order\n",
    "sentiment_order = [\"positive\", \"neutral\", \"negative\"]\n",
    "\n",
    "# Create bar plot\n",
    "plt.figure(figsize=(10, 6))\n",
    "sns.barplot(\n",
    "    data=sentiment_counts,\n",
    "    x=\"company\",\n",
    "    y=\"count\",\n",
    "    hue=\"vader_label\",\n",
    "    hue_order=sentiment_order\n",
    ")\n",
    "\n",
    "plt.title(\"VADER Sentiment Distribution per Company\")\n",
    "plt.xlabel(\"Company\")\n",
    "plt.ylabel(\"Number of Articles\")\n",
    "plt.legend(title=\"Sentiment\")\n",
    "plt.tight_layout()\n",
    "plt.show()\n"
   ]
  },
  {
   "cell_type": "markdown",
   "id": "834517d7",
   "metadata": {},
   "source": [
    "This bar chart displays the distribution of sentiment categories — **positive**, **neutral**, and **negative** — across all four companies based on VADER sentiment scores.\n",
    "\n",
    "**Insights:**\n",
    "- All companies show a strong presence of **positive sentiment** in their news coverage.\n",
    "- **Tesla** and **Nvidia** received the most **negative headlines**, suggesting higher perceived risk or controversy.\n",
    "- **Amazon** stands out with a very small number of neutral or negative headlines, possibly reflecting a more bullish or less volatile news cycle.\n",
    "- **Apple** has a moderate distribution across all three sentiment classes.\n",
    "\n",
    "This helps us understand how media tone varies between companies in the last 90 days and sets a baseline for comparing results with FinBERT next.\n"
   ]
  },
  {
   "cell_type": "markdown",
   "id": "2f0f8206",
   "metadata": {},
   "source": [
    "## Sentiment Analysis with FinBERT <a id='fin_ana'></a>"
   ]
  },
  {
   "cell_type": "markdown",
   "id": "39964b64",
   "metadata": {},
   "source": [
    "\n",
    "\n",
    "To complement VADER, we use **FinBERT**, a transformer-based model trained on financial text. It understands deeper linguistic patterns and domain-specific language better than rule-based tools.\n",
    "\n",
    "**Why FinBERT?**\n",
    "- Trained specifically on financial documents\n",
    "- Can capture subtle nuances (e.g., \"missed earnings expectations\")\n",
    "- Outputs one of three labels: **positive**, **neutral**, or **negative**\n",
    "\n",
    "We'll use the `transformers` library to load the pre-trained model and classify each headline/snippet.\n"
   ]
  },
  {
   "cell_type": "code",
   "execution_count": null,
   "id": "1164aee1",
   "metadata": {},
   "outputs": [
    {
     "ename": "ImportError",
     "evalue": "\nAutoModelForSequenceClassification requires the PyTorch library but it was not found in your environment. Checkout the instructions on the\ninstallation page: https://pytorch.org/get-started/locally/ and follow the ones that match your environment.\nPlease note that you may need to restart your runtime after installation.\n",
     "output_type": "error",
     "traceback": [
      "\u001b[1;31m---------------------------------------------------------------------------\u001b[0m",
      "\u001b[1;31mImportError\u001b[0m                               Traceback (most recent call last)",
      "Cell \u001b[1;32mIn[48], line 6\u001b[0m\n\u001b[0;32m      4\u001b[0m model_name \u001b[38;5;241m=\u001b[39m \u001b[38;5;124m\"\u001b[39m\u001b[38;5;124myiyanghkust/finbert-tone\u001b[39m\u001b[38;5;124m\"\u001b[39m\n\u001b[0;32m      5\u001b[0m tokenizer \u001b[38;5;241m=\u001b[39m AutoTokenizer\u001b[38;5;241m.\u001b[39mfrom_pretrained(model_name)\n\u001b[1;32m----> 6\u001b[0m model \u001b[38;5;241m=\u001b[39m \u001b[43mAutoModelForSequenceClassification\u001b[49m\u001b[38;5;241;43m.\u001b[39;49m\u001b[43mfrom_pretrained\u001b[49m(model_name)\n\u001b[0;32m      8\u001b[0m \u001b[38;5;66;03m# Create sentiment pipeline\u001b[39;00m\n\u001b[0;32m      9\u001b[0m finbert \u001b[38;5;241m=\u001b[39m pipeline(\u001b[38;5;124m\"\u001b[39m\u001b[38;5;124msentiment-analysis\u001b[39m\u001b[38;5;124m\"\u001b[39m, model\u001b[38;5;241m=\u001b[39mmodel, tokenizer\u001b[38;5;241m=\u001b[39mtokenizer)\n",
      "File \u001b[1;32m~\\AppData\\Local\\Packages\\PythonSoftwareFoundation.Python.3.11_qbz5n2kfra8p0\\LocalCache\\local-packages\\Python311\\site-packages\\transformers\\utils\\import_utils.py:1840\u001b[0m, in \u001b[0;36mDummyObject.__getattribute__\u001b[1;34m(cls, key)\u001b[0m\n\u001b[0;32m   1838\u001b[0m \u001b[38;5;28;01mif\u001b[39;00m key\u001b[38;5;241m.\u001b[39mstartswith(\u001b[38;5;124m\"\u001b[39m\u001b[38;5;124m_\u001b[39m\u001b[38;5;124m\"\u001b[39m) \u001b[38;5;129;01mand\u001b[39;00m key \u001b[38;5;241m!=\u001b[39m \u001b[38;5;124m\"\u001b[39m\u001b[38;5;124m_from_config\u001b[39m\u001b[38;5;124m\"\u001b[39m:\n\u001b[0;32m   1839\u001b[0m     \u001b[38;5;28;01mreturn\u001b[39;00m \u001b[38;5;28msuper\u001b[39m()\u001b[38;5;241m.\u001b[39m\u001b[38;5;21m__getattribute__\u001b[39m(key)\n\u001b[1;32m-> 1840\u001b[0m \u001b[43mrequires_backends\u001b[49m\u001b[43m(\u001b[49m\u001b[38;5;28;43mcls\u001b[39;49m\u001b[43m,\u001b[49m\u001b[43m \u001b[49m\u001b[38;5;28;43mcls\u001b[39;49m\u001b[38;5;241;43m.\u001b[39;49m\u001b[43m_backends\u001b[49m\u001b[43m)\u001b[49m\n",
      "File \u001b[1;32m~\\AppData\\Local\\Packages\\PythonSoftwareFoundation.Python.3.11_qbz5n2kfra8p0\\LocalCache\\local-packages\\Python311\\site-packages\\transformers\\utils\\import_utils.py:1828\u001b[0m, in \u001b[0;36mrequires_backends\u001b[1;34m(obj, backends)\u001b[0m\n\u001b[0;32m   1826\u001b[0m failed \u001b[38;5;241m=\u001b[39m [msg\u001b[38;5;241m.\u001b[39mformat(name) \u001b[38;5;28;01mfor\u001b[39;00m available, msg \u001b[38;5;129;01min\u001b[39;00m checks \u001b[38;5;28;01mif\u001b[39;00m \u001b[38;5;129;01mnot\u001b[39;00m available()]\n\u001b[0;32m   1827\u001b[0m \u001b[38;5;28;01mif\u001b[39;00m failed:\n\u001b[1;32m-> 1828\u001b[0m     \u001b[38;5;28;01mraise\u001b[39;00m \u001b[38;5;167;01mImportError\u001b[39;00m(\u001b[38;5;124m\"\u001b[39m\u001b[38;5;124m\"\u001b[39m\u001b[38;5;241m.\u001b[39mjoin(failed))\n",
      "\u001b[1;31mImportError\u001b[0m: \nAutoModelForSequenceClassification requires the PyTorch library but it was not found in your environment. Checkout the instructions on the\ninstallation page: https://pytorch.org/get-started/locally/ and follow the ones that match your environment.\nPlease note that you may need to restart your runtime after installation.\n"
     ]
    }
   ],
   "source": [
    "from transformers import AutoTokenizer, AutoModelForSequenceClassification, pipeline\n",
    "\n",
    "# Load FinBERT model and tokenizer\n",
    "model_name = \"yiyanghkust/finbert-tone\"\n",
    "tokenizer = AutoTokenizer.from_pretrained(model_name)\n",
    "model = AutoModelForSequenceClassification.from_pretrained(model_name)\n",
    "\n",
    "# Create sentiment pipeline\n",
    "finbert = pipeline(\"sentiment-analysis\", model=model, tokenizer=tokenizer)\n",
    "\n",
    "# Test\n",
    "print(finbert(\"Apple stock surges after record-breaking earnings\"))\n"
   ]
  },
  {
   "cell_type": "code",
   "execution_count": 52,
   "id": "bd8e56f2",
   "metadata": {},
   "outputs": [
    {
     "name": "stdout",
     "output_type": "stream",
     "text": [
      "C:\\Users\\Mustafa Ansari\\AppData\\Local\\Microsoft\\WindowsApps\\PythonSoftwareFoundation.Python.3.11_qbz5n2kfra8p0\\python.exe\n"
     ]
    }
   ],
   "source": [
    "import sys\n",
    "print(sys.executable)\n"
   ]
  },
  {
   "cell_type": "code",
   "execution_count": 50,
   "id": "a6f451e6",
   "metadata": {},
   "outputs": [
    {
     "name": "stdout",
     "output_type": "stream",
     "text": [
      "2.6.0+cpu\n"
     ]
    }
   ],
   "source": [
    "import torch\n",
    "print(torch.__version__)\n"
   ]
  },
  {
   "cell_type": "code",
   "execution_count": 51,
   "id": "38ff0499",
   "metadata": {},
   "outputs": [
    {
     "name": "stdout",
     "output_type": "stream",
     "text": [
      "2.6.0+cpu\n"
     ]
    }
   ],
   "source": [
    "import torch\n",
    "print(torch.__version__)\n"
   ]
  },
  {
   "cell_type": "code",
   "execution_count": 53,
   "id": "54249707",
   "metadata": {},
   "outputs": [
    {
     "name": "stdout",
     "output_type": "stream",
     "text": [
      "C:\\Users\\Mustafa Ansari\\AppData\\Local\\Microsoft\\WindowsApps\\PythonSoftwareFoundation.Python.3.11_qbz5n2kfra8p0\\python.exe\n",
      "Name: torch\n",
      "Version: 2.6.0\n",
      "Summary: Tensors and Dynamic neural networks in Python with strong GPU acceleration\n",
      "Home-page: https://pytorch.org/\n",
      "Author: PyTorch Team\n",
      "Author-email: packages@pytorch.org\n",
      "License: BSD-3-Clause\n",
      "Location: C:\\Users\\Mustafa Ansari\\AppData\\Local\\Packages\\PythonSoftwareFoundation.Python.3.11_qbz5n2kfra8p0\\LocalCache\\local-packages\\Python311\\site-packages\n",
      "Requires: filelock, fsspec, jinja2, networkx, sympy, typing-extensions\n",
      "Required-by: torchaudio, torchvision\n",
      "2.6.0+cpu\n"
     ]
    }
   ],
   "source": [
    "print(sys.executable)\n",
    "!pip show torch\n",
    "import torch\n",
    "print(torch.__version__)\n"
   ]
  },
  {
   "cell_type": "code",
   "execution_count": null,
   "id": "79a7dda0",
   "metadata": {},
   "outputs": [],
   "source": []
  }
 ],
 "metadata": {
  "kernelspec": {
   "display_name": "finbert_env",
   "language": "python",
   "name": "python3"
  },
  "language_info": {
   "codemirror_mode": {
    "name": "ipython",
    "version": 3
   },
   "file_extension": ".py",
   "mimetype": "text/x-python",
   "name": "python",
   "nbconvert_exporter": "python",
   "pygments_lexer": "ipython3",
   "version": "3.12.7"
  }
 },
 "nbformat": 4,
 "nbformat_minor": 5
}
