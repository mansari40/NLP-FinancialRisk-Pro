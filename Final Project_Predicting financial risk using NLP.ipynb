{
 "cells": [
  {
   "cell_type": "markdown",
   "id": "d991a1b6",
   "metadata": {},
   "source": [
    "# Final Project in Text Analysis and Natural Language Processing"
   ]
  },
  {
   "cell_type": "markdown",
   "id": "b8c2122c",
   "metadata": {},
   "source": [
    "### Title: Predicting financial risk using NLP, a sentiment and entity based approach"
   ]
  },
  {
   "cell_type": "markdown",
   "id": "6d803eab",
   "metadata": {},
   "source": [
    "#### Table of contents:\n",
    "\n",
    "\n",
    "<a href='#web_scrape'>1. Webscraping the data from the Google News </a><br>\n",
    "    \n",
    "<a href='#data_cleaning'>2. Text Cleaning & Deduplication</a>\n",
    "\n",
    "<a href='#text_pre'>3. Text Preprocessing</a>\t\n",
    "\n",
    "<a href='#sent_ana'>4. Sentiment Analysis with VADER </a>\n",
    "\n",
    "<a href='#fin_ana'>5. Sentiment Analysis with FinBERT </a>\n",
    "\n",
    "<a href='#Sen_Comp'>6. Comparison of Sentiments: VADER vs FinBert </a>\n",
    "\n",
    "<a href='#name_reco'>7. Named Entity Recognition (NER) </a>"
   ]
  },
  {
   "cell_type": "markdown",
   "id": "fe8f4944",
   "metadata": {},
   "source": [
    "### Importing the needed libraries"
   ]
  },
  {
   "cell_type": "markdown",
   "id": "27d29d43",
   "metadata": {},
   "source": [
    "Here we are importing the libraries that I will be needing for the further analysis:"
   ]
  },
  {
   "cell_type": "code",
   "execution_count": null,
   "id": "a4378449",
   "metadata": {},
   "outputs": [
    {
     "name": "stdout",
     "output_type": "stream",
     "text": [
      "Requirement already satisfied: vaderSentiment in c:\\users\\mustafa ansari\\finbert_env\\lib\\site-packages (3.3.2)\n",
      "Requirement already satisfied: requests in c:\\users\\mustafa ansari\\finbert_env\\lib\\site-packages (from vaderSentiment) (2.32.3)\n",
      "Requirement already satisfied: charset-normalizer<4,>=2 in c:\\users\\mustafa ansari\\finbert_env\\lib\\site-packages (from requests->vaderSentiment) (3.4.1)\n",
      "Requirement already satisfied: idna<4,>=2.5 in c:\\users\\mustafa ansari\\finbert_env\\lib\\site-packages (from requests->vaderSentiment) (3.10)\n",
      "Requirement already satisfied: urllib3<3,>=1.21.1 in c:\\users\\mustafa ansari\\finbert_env\\lib\\site-packages (from requests->vaderSentiment) (2.4.0)\n",
      "Requirement already satisfied: certifi>=2017.4.17 in c:\\users\\mustafa ansari\\finbert_env\\lib\\site-packages (from requests->vaderSentiment) (2025.1.31)\n"
     ]
    },
    {
     "name": "stderr",
     "output_type": "stream",
     "text": [
      "\n",
      "[notice] A new release of pip is available: 24.2 -> 25.0.1\n",
      "[notice] To update, run: python.exe -m pip install --upgrade pip\n"
     ]
    },
    {
     "name": "stdout",
     "output_type": "stream",
     "text": [
      "Requirement already satisfied: torch in c:\\users\\mustafa ansari\\finbert_env\\lib\\site-packages (2.6.0+cpu)\n",
      "Requirement already satisfied: filelock in c:\\users\\mustafa ansari\\finbert_env\\lib\\site-packages (from torch) (3.13.1)\n",
      "Requirement already satisfied: typing-extensions>=4.10.0 in c:\\users\\mustafa ansari\\finbert_env\\lib\\site-packages (from torch) (4.12.2)\n",
      "Requirement already satisfied: networkx in c:\\users\\mustafa ansari\\finbert_env\\lib\\site-packages (from torch) (3.3)\n",
      "Requirement already satisfied: jinja2 in c:\\users\\mustafa ansari\\finbert_env\\lib\\site-packages (from torch) (3.1.4)\n",
      "Requirement already satisfied: fsspec in c:\\users\\mustafa ansari\\finbert_env\\lib\\site-packages (from torch) (2024.6.1)\n",
      "Requirement already satisfied: setuptools in c:\\users\\mustafa ansari\\finbert_env\\lib\\site-packages (from torch) (70.2.0)\n",
      "Requirement already satisfied: sympy==1.13.1 in c:\\users\\mustafa ansari\\finbert_env\\lib\\site-packages (from torch) (1.13.1)\n",
      "Requirement already satisfied: mpmath<1.4,>=1.1.0 in c:\\users\\mustafa ansari\\finbert_env\\lib\\site-packages (from sympy==1.13.1->torch) (1.3.0)\n",
      "Requirement already satisfied: MarkupSafe>=2.0 in c:\\users\\mustafa ansari\\finbert_env\\lib\\site-packages (from jinja2->torch) (2.1.5)\n"
     ]
    },
    {
     "name": "stderr",
     "output_type": "stream",
     "text": [
      "\n",
      "[notice] A new release of pip is available: 24.2 -> 25.0.1\n",
      "[notice] To update, run: python.exe -m pip install --upgrade pip\n"
     ]
    },
    {
     "name": "stdout",
     "output_type": "stream",
     "text": [
      "Requirement already satisfied: torch in c:\\users\\mustafa ansari\\finbert_env\\lib\\site-packages (2.6.0+cpu)\n",
      "Requirement already satisfied: torchvision in c:\\users\\mustafa ansari\\finbert_env\\lib\\site-packages (0.21.0+cpu)\n",
      "Requirement already satisfied: torchaudio in c:\\users\\mustafa ansari\\finbert_env\\lib\\site-packages (2.6.0+cpu)\n",
      "Requirement already satisfied: filelock in c:\\users\\mustafa ansari\\finbert_env\\lib\\site-packages (from torch) (3.13.1)\n",
      "Requirement already satisfied: typing-extensions>=4.10.0 in c:\\users\\mustafa ansari\\finbert_env\\lib\\site-packages (from torch) (4.12.2)\n",
      "Requirement already satisfied: networkx in c:\\users\\mustafa ansari\\finbert_env\\lib\\site-packages (from torch) (3.3)\n",
      "Requirement already satisfied: jinja2 in c:\\users\\mustafa ansari\\finbert_env\\lib\\site-packages (from torch) (3.1.4)\n",
      "Requirement already satisfied: fsspec in c:\\users\\mustafa ansari\\finbert_env\\lib\\site-packages (from torch) (2024.6.1)\n",
      "Requirement already satisfied: setuptools in c:\\users\\mustafa ansari\\finbert_env\\lib\\site-packages (from torch) (70.2.0)\n",
      "Requirement already satisfied: sympy==1.13.1 in c:\\users\\mustafa ansari\\finbert_env\\lib\\site-packages (from torch) (1.13.1)\n",
      "Requirement already satisfied: mpmath<1.4,>=1.1.0 in c:\\users\\mustafa ansari\\finbert_env\\lib\\site-packages (from sympy==1.13.1->torch) (1.3.0)\n",
      "Requirement already satisfied: numpy in c:\\users\\mustafa ansari\\finbert_env\\lib\\site-packages (from torchvision) (2.1.2)\n",
      "Requirement already satisfied: pillow!=8.3.*,>=5.3.0 in c:\\users\\mustafa ansari\\finbert_env\\lib\\site-packages (from torchvision) (11.0.0)\n",
      "Requirement already satisfied: MarkupSafe>=2.0 in c:\\users\\mustafa ansari\\finbert_env\\lib\\site-packages (from jinja2->torch) (2.1.5)\n"
     ]
    },
    {
     "name": "stderr",
     "output_type": "stream",
     "text": [
      "\n",
      "[notice] A new release of pip is available: 24.2 -> 25.0.1\n",
      "[notice] To update, run: python.exe -m pip install --upgrade pip\n"
     ]
    }
   ],
   "source": [
    "#Importing libraries to scrap\n",
    "from serpapi import GoogleSearch\n",
    "\n",
    "import pandas as pd\n",
    "from datetime import datetime, timedelta\n",
    "import time\n",
    "import re\n",
    "\n",
    "# Importing libraries for text preprocossing \n",
    "import nltk\n",
    "from nltk.corpus import stopwords\n",
    "from nltk.tokenize import word_tokenize\n",
    "from nltk.stem import WordNetLemmatizer\n",
    "\n",
    "# Importing library for VADAR Sentiment Analysis\n",
    "!pip install vaderSentiment\n",
    "from vaderSentiment.vaderSentiment import SentimentIntensityAnalyzer\n",
    "\n",
    "#importin libraries for Visualization\n",
    "import matplotlib.pyplot as plt\n",
    "import seaborn as sns\n",
    "\n",
    "# Importing library for FinBERT Sentiment Analysis\n",
    "from transformers import AutoTokenizer, AutoModelForSequenceClassification\n",
    "from transformers import pipeline\n",
    "!pip install torch\n",
    "!pip install torch torchvision torchaudio\n",
    "import torch\n",
    "from tqdm import tqdm\n",
    "import requests\n",
    "\n",
    "## Importing library for NER\n",
    "!pip install spacy\n",
    "!python -m spacy download en_core_web_trf\n",
    "import spacy\n",
    "from collections import Counter\n",
    "\n",
    "\n",
    "\n"
   ]
  },
  {
   "cell_type": "markdown",
   "id": "7107abca",
   "metadata": {},
   "source": [
    "## Webscraping the data from the Independent newspaper <a id='web_scrape'></a>"
   ]
  },
  {
   "cell_type": "markdown",
   "id": "56a8d8dd",
   "metadata": {},
   "source": [
    "In this code snippet i have tried to scrap recent financial news headlines and a short description of the news using SerpAPI (Google News API) for the following companies:\n",
    "\n",
    "- Apple\n",
    "- Tesla\n",
    "- Nvidia\n",
    "- Amazon\n",
    "\n",
    "The objective is to retrieve high-quality, recent news headlines and snippets (within the last 90 days) that can be used for further Sentiment analysis, Entity recogntion and Risk Scoring. "
   ]
  },
  {
   "cell_type": "code",
   "execution_count": null,
   "id": "b1ee51e4",
   "metadata": {},
   "outputs": [],
   "source": [
    "# Step 1: Your SerpAPI Key\n",
    "API_KEY = \"--\"\n",
    "\n",
    "# Step 2: Parse Relative/Absolute Dates\n",
    "def parse_relative_date(text):\n",
    "    today = datetime.today()\n",
    "    try:\n",
    "        if re.search(r\"\\w{3,} \\d{1,2}, \\d{4}\", text):  # e.g. Apr 4, 2025\n",
    "            return datetime.strptime(text, \"%b %d, %Y\")\n",
    "        elif \"day\" in text:\n",
    "            days = int(re.search(r\"(\\d+)\", text).group(1))\n",
    "            return today - timedelta(days=days)\n",
    "        elif \"hour\" in text:\n",
    "            hours = int(re.search(r\"(\\d+)\", text).group(1))\n",
    "            return today - timedelta(hours=hours)\n",
    "        elif \"week\" in text:\n",
    "            weeks = int(re.search(r\"(\\d+)\", text).group(1))\n",
    "            return today - timedelta(weeks=weeks)\n",
    "        elif \"month\" in text:\n",
    "            months = int(re.search(r\"(\\d+)\", text).group(1))\n",
    "            return today - timedelta(days=30 * months)\n",
    "        else:\n",
    "            return None\n",
    "    except:\n",
    "        return None\n",
    "\n",
    "# Step 3: Scraper Function\n",
    "def scrape_serpapi_news(company, target_articles=600):\n",
    "    print(f\"🔍 Scraping {company}...\")\n",
    "    results = []\n",
    "    page = 0\n",
    "    collected = 0\n",
    "    today = datetime.today()\n",
    "    ninety_days_ago = today - timedelta(days=90)\n",
    "\n",
    "    while collected < target_articles:\n",
    "        params = {\n",
    "            \"engine\": \"google\",\n",
    "            \"q\": f\"{company} stock\",\n",
    "            \"tbm\": \"nws\",\n",
    "            \"api_key\": API_KEY,\n",
    "            \"num\": 100,\n",
    "            \"start\": page * 100,\n",
    "            \"tbs\": \"cdr:1,cd_min:1/14/2024,cd_max:4/14/2025\"\n",
    "        }\n",
    "\n",
    "        search = GoogleSearch(params)\n",
    "        response = search.get_dict()\n",
    "        news_results = response.get(\"news_results\", [])\n",
    "\n",
    "        if not news_results:\n",
    "            print(f\"⚠️ No more news results found at page {page} for {company}\")\n",
    "            break\n",
    "\n",
    "        for article in news_results:\n",
    "            pub_date_raw = article.get(\"date\")\n",
    "            parsed_date = parse_relative_date(pub_date_raw)\n",
    "\n",
    "            if parsed_date and parsed_date >= ninety_days_ago:\n",
    "                results.append({\n",
    "                    \"company\": company,\n",
    "                    \"title\": article.get(\"title\"),\n",
    "                    \"link\": article.get(\"link\"),\n",
    "                    \"snippet\": article.get(\"snippet\"),\n",
    "                    \"source\": article.get(\"source\"),\n",
    "                    \"published\": parsed_date.strftime(\"%m/%d/%Y\")\n",
    "                })\n",
    "\n",
    "        collected = len(results)\n",
    "        page += 1\n",
    "        time.sleep(1)\n",
    "\n",
    "    print(f\"Collected {len(results)} valid articles for {company}\")\n",
    "    return pd.DataFrame(results[:target_articles])\n",
    "\n",
    "# Step 4: List of Companies\n",
    "companies = [\"Apple\", \"Tesla\", \"Nvidia\", \"Amazon\"]\n",
    "\n",
    "# Step 5: Scrape & Save\n",
    "all_dfs = []\n",
    "for company in companies:\n",
    "    df = scrape_serpapi_news(company, target_articles=600)\n",
    "    all_dfs.append(df)\n",
    "\n",
    "final_df = pd.concat(all_dfs, ignore_index=True)"
   ]
  },
  {
   "cell_type": "markdown",
   "id": "1ea5fd52",
   "metadata": {},
   "source": [
    "### Reading the data"
   ]
  },
  {
   "cell_type": "markdown",
   "id": "dfa9c097",
   "metadata": {},
   "source": [
    "For confidentiality purposes, i have hidden my API and have uploaded and read the data below:"
   ]
  },
  {
   "cell_type": "code",
   "execution_count": 20,
   "id": "9f001ba1",
   "metadata": {},
   "outputs": [],
   "source": [
    "final_df = pd.read_csv(\"C:\\\\Users\\\\Mustafa Ansari\\\\Downloads\\\\Scrapped Google News.csv\")"
   ]
  },
  {
   "cell_type": "code",
   "execution_count": 21,
   "id": "790d4712",
   "metadata": {},
   "outputs": [
    {
     "data": {
      "text/html": [
       "<div>\n",
       "<style scoped>\n",
       "    .dataframe tbody tr th:only-of-type {\n",
       "        vertical-align: middle;\n",
       "    }\n",
       "\n",
       "    .dataframe tbody tr th {\n",
       "        vertical-align: top;\n",
       "    }\n",
       "\n",
       "    .dataframe thead th {\n",
       "        text-align: right;\n",
       "    }\n",
       "</style>\n",
       "<table border=\"1\" class=\"dataframe\">\n",
       "  <thead>\n",
       "    <tr style=\"text-align: right;\">\n",
       "      <th></th>\n",
       "      <th>company</th>\n",
       "      <th>title</th>\n",
       "      <th>link</th>\n",
       "      <th>snippet</th>\n",
       "      <th>source</th>\n",
       "      <th>published</th>\n",
       "    </tr>\n",
       "  </thead>\n",
       "  <tbody>\n",
       "    <tr>\n",
       "      <th>0</th>\n",
       "      <td>Apple</td>\n",
       "      <td>Where Will Apple Stock Be In 5 Years?</td>\n",
       "      <td>https://www.forbes.com/sites/investor-hub/arti...</td>\n",
       "      <td>The shares currently trade approximately 12% b...</td>\n",
       "      <td>Forbes</td>\n",
       "      <td>03/15/2025</td>\n",
       "    </tr>\n",
       "    <tr>\n",
       "      <th>1</th>\n",
       "      <td>Apple</td>\n",
       "      <td>Apple Joins AI Data Center Race After Siri Mess</td>\n",
       "      <td>https://www.investors.com/news/technology/appl...</td>\n",
       "      <td>Apple is in the process of placing orders for ...</td>\n",
       "      <td>Investor's Business Daily</td>\n",
       "      <td>03/24/2025</td>\n",
       "    </tr>\n",
       "    <tr>\n",
       "      <th>2</th>\n",
       "      <td>Apple</td>\n",
       "      <td>How Bad Could Sustained Tariffs Be for Apple S...</td>\n",
       "      <td>https://www.morningstar.com/stocks/how-bad-cou...</td>\n",
       "      <td>If tariffs persist, Apple's profit margins cou...</td>\n",
       "      <td>Morningstar</td>\n",
       "      <td>04/09/2025</td>\n",
       "    </tr>\n",
       "    <tr>\n",
       "      <th>3</th>\n",
       "      <td>Apple</td>\n",
       "      <td>Analysts revisit Apple stock price targets as ...</td>\n",
       "      <td>https://www.thestreet.com/investing/analysts-r...</td>\n",
       "      <td>Wedbush analyst Dan Ives, a committed Apple bu...</td>\n",
       "      <td>TheStreet</td>\n",
       "      <td>03/24/2025</td>\n",
       "    </tr>\n",
       "    <tr>\n",
       "      <th>4</th>\n",
       "      <td>Apple</td>\n",
       "      <td>Watch These Apple Stock Price Levels Amid Tari...</td>\n",
       "      <td>https://www.investopedia.com/watch-these-apple...</td>\n",
       "      <td>Apple shares gained ground Wednesday after los...</td>\n",
       "      <td>Investopedia</td>\n",
       "      <td>04/09/2025</td>\n",
       "    </tr>\n",
       "  </tbody>\n",
       "</table>\n",
       "</div>"
      ],
      "text/plain": [
       "  company                                              title  \\\n",
       "0   Apple              Where Will Apple Stock Be In 5 Years?   \n",
       "1   Apple    Apple Joins AI Data Center Race After Siri Mess   \n",
       "2   Apple  How Bad Could Sustained Tariffs Be for Apple S...   \n",
       "3   Apple  Analysts revisit Apple stock price targets as ...   \n",
       "4   Apple  Watch These Apple Stock Price Levels Amid Tari...   \n",
       "\n",
       "                                                link  \\\n",
       "0  https://www.forbes.com/sites/investor-hub/arti...   \n",
       "1  https://www.investors.com/news/technology/appl...   \n",
       "2  https://www.morningstar.com/stocks/how-bad-cou...   \n",
       "3  https://www.thestreet.com/investing/analysts-r...   \n",
       "4  https://www.investopedia.com/watch-these-apple...   \n",
       "\n",
       "                                             snippet  \\\n",
       "0  The shares currently trade approximately 12% b...   \n",
       "1  Apple is in the process of placing orders for ...   \n",
       "2  If tariffs persist, Apple's profit margins cou...   \n",
       "3  Wedbush analyst Dan Ives, a committed Apple bu...   \n",
       "4  Apple shares gained ground Wednesday after los...   \n",
       "\n",
       "                      source   published  \n",
       "0                     Forbes  03/15/2025  \n",
       "1  Investor's Business Daily  03/24/2025  \n",
       "2                Morningstar  04/09/2025  \n",
       "3                  TheStreet  03/24/2025  \n",
       "4               Investopedia  04/09/2025  "
      ]
     },
     "execution_count": 21,
     "metadata": {},
     "output_type": "execute_result"
    }
   ],
   "source": [
    "final_df.head()"
   ]
  },
  {
   "cell_type": "markdown",
   "id": "2dfe878d",
   "metadata": {},
   "source": [
    "## Text Cleaning & Deduplication <a id='data_cleaning'></a>"
   ]
  },
  {
   "cell_type": "markdown",
   "id": "bb81efad",
   "metadata": {},
   "source": [
    "In this step, i have firstly combined title and snippet into a single column: text then dropped exact duplicates of combined text and dropped nulls and whitespace-only entries. Finally i have reset index for tidy output."
   ]
  },
  {
   "cell_type": "code",
   "execution_count": 22,
   "id": "37ed0ab5",
   "metadata": {},
   "outputs": [],
   "source": [
    "# Original Data\n",
    "original_count = len(final_df)\n",
    "df = final_df.copy()\n",
    "\n",
    "# STEP 1: Combine title + snippet\n",
    "df[\"text\"] = df[\"title\"].fillna(\"\") + \". \" + df[\"snippet\"].fillna(\"\")\n",
    "\n",
    "# STEP 2: Remove short/empty text\n",
    "df[\"text\"] = df[\"text\"].str.strip()\n",
    "before_empty_filter = len(df)\n",
    "df = df[df[\"text\"].str.len() > 10]\n",
    "after_empty_filter = len(df)\n",
    "empty_dropped = before_empty_filter - after_empty_filter\n",
    "\n",
    "# STEP 3: Remove exact duplicates\n",
    "before_dedup = len(df)\n",
    "df = df.drop_duplicates(subset=[\"text\"])\n",
    "after_dedup = len(df)\n",
    "duplicates_dropped = before_dedup - after_dedup\n",
    "\n",
    "# STEP 4: Reset index\n",
    "df = df.reset_index(drop=True)\n",
    "\n",
    "# Save cleaned version\n",
    "df.to_csv(r\"C:\\Users\\Mustafa Ansari\\Downloads\\news_cleaned_deduplicated.csv\", index=False)\n"
   ]
  },
  {
   "cell_type": "code",
   "execution_count": 23,
   "id": "218695d3",
   "metadata": {},
   "outputs": [
    {
     "name": "stdout",
     "output_type": "stream",
     "text": [
      "Cleaning Summary:\n",
      "• Original articles: 1929\n",
      "• Removed short/empty text: 0\n",
      "• Removed duplicates: 146\n",
      " Final cleaned articles: 1783\n"
     ]
    }
   ],
   "source": [
    "# Summary\n",
    "print(\"Cleaning Summary:\")\n",
    "print(f\"• Original articles: {original_count}\")\n",
    "print(f\"• Removed short/empty text: {empty_dropped}\")\n",
    "print(f\"• Removed duplicates: {duplicates_dropped}\")\n",
    "print(f\" Final cleaned articles: {len(df)}\")"
   ]
  },
  {
   "cell_type": "code",
   "execution_count": 25,
   "id": "0e692b7b",
   "metadata": {},
   "outputs": [
    {
     "data": {
      "text/html": [
       "<div>\n",
       "<style scoped>\n",
       "    .dataframe tbody tr th:only-of-type {\n",
       "        vertical-align: middle;\n",
       "    }\n",
       "\n",
       "    .dataframe tbody tr th {\n",
       "        vertical-align: top;\n",
       "    }\n",
       "\n",
       "    .dataframe thead th {\n",
       "        text-align: right;\n",
       "    }\n",
       "</style>\n",
       "<table border=\"1\" class=\"dataframe\">\n",
       "  <thead>\n",
       "    <tr style=\"text-align: right;\">\n",
       "      <th></th>\n",
       "      <th>company</th>\n",
       "      <th>title</th>\n",
       "      <th>link</th>\n",
       "      <th>snippet</th>\n",
       "      <th>source</th>\n",
       "      <th>published</th>\n",
       "      <th>text</th>\n",
       "    </tr>\n",
       "  </thead>\n",
       "  <tbody>\n",
       "    <tr>\n",
       "      <th>0</th>\n",
       "      <td>Apple</td>\n",
       "      <td>Where Will Apple Stock Be In 5 Years?</td>\n",
       "      <td>https://www.forbes.com/sites/investor-hub/arti...</td>\n",
       "      <td>The shares currently trade approximately 12% b...</td>\n",
       "      <td>Forbes</td>\n",
       "      <td>03/15/2025</td>\n",
       "      <td>Where Will Apple Stock Be In 5 Years?. The sha...</td>\n",
       "    </tr>\n",
       "    <tr>\n",
       "      <th>1</th>\n",
       "      <td>Apple</td>\n",
       "      <td>Apple Joins AI Data Center Race After Siri Mess</td>\n",
       "      <td>https://www.investors.com/news/technology/appl...</td>\n",
       "      <td>Apple is in the process of placing orders for ...</td>\n",
       "      <td>Investor's Business Daily</td>\n",
       "      <td>03/24/2025</td>\n",
       "      <td>Apple Joins AI Data Center Race After Siri Mes...</td>\n",
       "    </tr>\n",
       "    <tr>\n",
       "      <th>2</th>\n",
       "      <td>Apple</td>\n",
       "      <td>How Bad Could Sustained Tariffs Be for Apple S...</td>\n",
       "      <td>https://www.morningstar.com/stocks/how-bad-cou...</td>\n",
       "      <td>If tariffs persist, Apple's profit margins cou...</td>\n",
       "      <td>Morningstar</td>\n",
       "      <td>04/09/2025</td>\n",
       "      <td>How Bad Could Sustained Tariffs Be for Apple S...</td>\n",
       "    </tr>\n",
       "    <tr>\n",
       "      <th>3</th>\n",
       "      <td>Apple</td>\n",
       "      <td>Analysts revisit Apple stock price targets as ...</td>\n",
       "      <td>https://www.thestreet.com/investing/analysts-r...</td>\n",
       "      <td>Wedbush analyst Dan Ives, a committed Apple bu...</td>\n",
       "      <td>TheStreet</td>\n",
       "      <td>03/24/2025</td>\n",
       "      <td>Analysts revisit Apple stock price targets as ...</td>\n",
       "    </tr>\n",
       "    <tr>\n",
       "      <th>4</th>\n",
       "      <td>Apple</td>\n",
       "      <td>Watch These Apple Stock Price Levels Amid Tari...</td>\n",
       "      <td>https://www.investopedia.com/watch-these-apple...</td>\n",
       "      <td>Apple shares gained ground Wednesday after los...</td>\n",
       "      <td>Investopedia</td>\n",
       "      <td>04/09/2025</td>\n",
       "      <td>Watch These Apple Stock Price Levels Amid Tari...</td>\n",
       "    </tr>\n",
       "  </tbody>\n",
       "</table>\n",
       "</div>"
      ],
      "text/plain": [
       "  company                                              title  \\\n",
       "0   Apple              Where Will Apple Stock Be In 5 Years?   \n",
       "1   Apple    Apple Joins AI Data Center Race After Siri Mess   \n",
       "2   Apple  How Bad Could Sustained Tariffs Be for Apple S...   \n",
       "3   Apple  Analysts revisit Apple stock price targets as ...   \n",
       "4   Apple  Watch These Apple Stock Price Levels Amid Tari...   \n",
       "\n",
       "                                                link  \\\n",
       "0  https://www.forbes.com/sites/investor-hub/arti...   \n",
       "1  https://www.investors.com/news/technology/appl...   \n",
       "2  https://www.morningstar.com/stocks/how-bad-cou...   \n",
       "3  https://www.thestreet.com/investing/analysts-r...   \n",
       "4  https://www.investopedia.com/watch-these-apple...   \n",
       "\n",
       "                                             snippet  \\\n",
       "0  The shares currently trade approximately 12% b...   \n",
       "1  Apple is in the process of placing orders for ...   \n",
       "2  If tariffs persist, Apple's profit margins cou...   \n",
       "3  Wedbush analyst Dan Ives, a committed Apple bu...   \n",
       "4  Apple shares gained ground Wednesday after los...   \n",
       "\n",
       "                      source   published  \\\n",
       "0                     Forbes  03/15/2025   \n",
       "1  Investor's Business Daily  03/24/2025   \n",
       "2                Morningstar  04/09/2025   \n",
       "3                  TheStreet  03/24/2025   \n",
       "4               Investopedia  04/09/2025   \n",
       "\n",
       "                                                text  \n",
       "0  Where Will Apple Stock Be In 5 Years?. The sha...  \n",
       "1  Apple Joins AI Data Center Race After Siri Mes...  \n",
       "2  How Bad Could Sustained Tariffs Be for Apple S...  \n",
       "3  Analysts revisit Apple stock price targets as ...  \n",
       "4  Watch These Apple Stock Price Levels Amid Tari...  "
      ]
     },
     "execution_count": 25,
     "metadata": {},
     "output_type": "execute_result"
    }
   ],
   "source": [
    "df.head()"
   ]
  },
  {
   "cell_type": "markdown",
   "id": "636b60e5",
   "metadata": {},
   "source": [
    "## Text Preprocessing <a id='text_pre'></a>"
   ]
  },
  {
   "cell_type": "markdown",
   "id": "9186c979",
   "metadata": {},
   "source": [
    "**In this section the following text preprocessing steps have been implemented:**\n",
    "\n",
    "1.  Lowercasing\n",
    "\n",
    "2. Remove punctuation & special characters\n",
    "\n",
    "3.  Remove digits and extra whitespace\n",
    "\n",
    "4. Tokenize text (split into words)\n",
    "\n",
    "5. Remove stopwords (e.g., \"the\", \"is\", \"of\")\n",
    "\n",
    "6. Lemmatize words (e.g., “running” → “run”)\n"
   ]
  },
  {
   "cell_type": "code",
   "execution_count": 26,
   "id": "5f062e4c",
   "metadata": {},
   "outputs": [
    {
     "name": "stderr",
     "output_type": "stream",
     "text": [
      "[nltk_data] Downloading package punkt to C:\\Users\\Mustafa\n",
      "[nltk_data]     Ansari\\AppData\\Roaming\\nltk_data...\n",
      "[nltk_data]   Package punkt is already up-to-date!\n",
      "[nltk_data] Downloading package stopwords to C:\\Users\\Mustafa\n",
      "[nltk_data]     Ansari\\AppData\\Roaming\\nltk_data...\n",
      "[nltk_data]   Package stopwords is already up-to-date!\n",
      "[nltk_data] Downloading package wordnet to C:\\Users\\Mustafa\n",
      "[nltk_data]     Ansari\\AppData\\Roaming\\nltk_data...\n",
      "[nltk_data]   Package wordnet is already up-to-date!\n"
     ]
    },
    {
     "name": "stdout",
     "output_type": "stream",
     "text": [
      "     company                                         text_clean\n",
      "1183  Nvidia  nvidia stock plummeting today nvidia stock plu...\n",
      "628    Tesla  tesla stock dive buyer strike real problem mus...\n",
      "674    Tesla  tesla stock drop european sale fall elon musk ...\n",
      "Preprocessed text saved to: news_preprocessed.csv\n"
     ]
    }
   ],
   "source": [
    "# Download NLTK resources (one-time)\n",
    "nltk.download(\"punkt\")\n",
    "nltk.download(\"stopwords\")\n",
    "nltk.download(\"wordnet\")\n",
    "\n",
    "# Setup\n",
    "stop_words = set(stopwords.words(\"english\"))\n",
    "lemmatizer = WordNetLemmatizer()\n",
    "\n",
    "def preprocess_text(text):\n",
    "    # 1. Lowercase\n",
    "    text = text.lower()\n",
    "\n",
    "    # 2. Remove URLs, special characters, digits\n",
    "    text = re.sub(r\"http\\S+|www\\S+|[^a-z\\s]\", \" \", text)\n",
    "\n",
    "    # 3. Tokenize\n",
    "    tokens = word_tokenize(text)\n",
    "\n",
    "    # 4. Remove stopwords\n",
    "    tokens = [t for t in tokens if t not in stop_words and len(t) > 2]\n",
    "\n",
    "    # 5. Lemmatize\n",
    "    tokens = [lemmatizer.lemmatize(t) for t in tokens]\n",
    "\n",
    "    # Return processed text as space-separated string\n",
    "    return \" \".join(tokens)\n",
    "\n",
    "# Apply to all texts\n",
    "df[\"text_clean\"] = df[\"text\"].apply(preprocess_text)\n",
    "\n",
    "# Preview\n",
    "print(df[[\"company\", \"text_clean\"]].sample(3))\n",
    "\n",
    "# Save for modeling\n",
    "df.to_csv(r\"C:\\Users\\Mustafa Ansari\\Downloads\\news_preprocessed.csv\", index=False)\n",
    "print(\"Preprocessed text saved to: news_preprocessed.csv\")"
   ]
  },
  {
   "cell_type": "markdown",
   "id": "7292226c",
   "metadata": {},
   "source": [
    "## Sentiment Analysis with VADER <a id='sent_ana'></a>"
   ]
  },
  {
   "cell_type": "markdown",
   "id": "47cffe61",
   "metadata": {},
   "source": [
    "To begin the sentiment analysis, we use **VADER (Valence Aware Dictionary and sEntiment Reasoner)** - a fast and interpretable rule-based model built specifically for short text like headlines or tweets.\n",
    "\n",
    "VADER is ideal for our dataset because:\n",
    "- It works well on finance-related headlines and snippets\n",
    "- It provides a **compound score** between -1 (negative) and +1 (positive)\n",
    "- It also returns **positive, neutral, and negative** proportions\n",
    "\n",
    "We'll compute the compound score and assign a sentiment label:\n",
    "- **Positive** if score ≥ 0.05  \n",
    "- **Negative** if score ≤ -0.05  \n",
    "- **Neutral** otherwise"
   ]
  },
  {
   "cell_type": "code",
   "execution_count": 46,
   "id": "975693a9",
   "metadata": {},
   "outputs": [
    {
     "data": {
      "text/html": [
       "<div>\n",
       "<style scoped>\n",
       "    .dataframe tbody tr th:only-of-type {\n",
       "        vertical-align: middle;\n",
       "    }\n",
       "\n",
       "    .dataframe tbody tr th {\n",
       "        vertical-align: top;\n",
       "    }\n",
       "\n",
       "    .dataframe thead th {\n",
       "        text-align: right;\n",
       "    }\n",
       "</style>\n",
       "<table border=\"1\" class=\"dataframe\">\n",
       "  <thead>\n",
       "    <tr style=\"text-align: right;\">\n",
       "      <th></th>\n",
       "      <th>company</th>\n",
       "      <th>text_clean</th>\n",
       "      <th>vader_score</th>\n",
       "      <th>vader_label</th>\n",
       "    </tr>\n",
       "  </thead>\n",
       "  <tbody>\n",
       "    <tr>\n",
       "      <th>1006</th>\n",
       "      <td>Nvidia</td>\n",
       "      <td>nvidia stock rebounding key real recovery may ...</td>\n",
       "      <td>0.6705</td>\n",
       "      <td>positive</td>\n",
       "    </tr>\n",
       "    <tr>\n",
       "      <th>919</th>\n",
       "      <td>Tesla</td>\n",
       "      <td>tesla suspends model order china play tsla sto...</td>\n",
       "      <td>0.1027</td>\n",
       "      <td>positive</td>\n",
       "    </tr>\n",
       "    <tr>\n",
       "      <th>601</th>\n",
       "      <td>Tesla</td>\n",
       "      <td>elon musk brother sell million worth tesla sto...</td>\n",
       "      <td>0.2960</td>\n",
       "      <td>positive</td>\n",
       "    </tr>\n",
       "    <tr>\n",
       "      <th>618</th>\n",
       "      <td>Tesla</td>\n",
       "      <td>buy tesla stock april buy tesla stock april sh...</td>\n",
       "      <td>0.2960</td>\n",
       "      <td>positive</td>\n",
       "    </tr>\n",
       "    <tr>\n",
       "      <th>1457</th>\n",
       "      <td>Amazon</td>\n",
       "      <td>amazon push agent stock fall tariff concern am...</td>\n",
       "      <td>0.4019</td>\n",
       "      <td>positive</td>\n",
       "    </tr>\n",
       "  </tbody>\n",
       "</table>\n",
       "</div>"
      ],
      "text/plain": [
       "     company                                         text_clean  vader_score  \\\n",
       "1006  Nvidia  nvidia stock rebounding key real recovery may ...       0.6705   \n",
       "919    Tesla  tesla suspends model order china play tsla sto...       0.1027   \n",
       "601    Tesla  elon musk brother sell million worth tesla sto...       0.2960   \n",
       "618    Tesla  buy tesla stock april buy tesla stock april sh...       0.2960   \n",
       "1457  Amazon  amazon push agent stock fall tariff concern am...       0.4019   \n",
       "\n",
       "     vader_label  \n",
       "1006    positive  \n",
       "919     positive  \n",
       "601     positive  \n",
       "618     positive  \n",
       "1457    positive  "
      ]
     },
     "execution_count": 46,
     "metadata": {},
     "output_type": "execute_result"
    }
   ],
   "source": [
    "# Initialize VADER\n",
    "analyzer = SentimentIntensityAnalyzer()\n",
    "\n",
    "# Function to get VADER sentiment score and label\n",
    "def get_vader_sentiment(text):\n",
    "    scores = analyzer.polarity_scores(text)\n",
    "    compound = scores['compound']\n",
    "    if compound >= 0.05:\n",
    "        label = 'positive'\n",
    "    elif compound <= -0.05:\n",
    "        label = 'negative'\n",
    "    else:\n",
    "        label = 'neutral'\n",
    "    return pd.Series([compound, label])\n",
    "\n",
    "# Apply to cleaned text\n",
    "df[[\"vader_score\", \"vader_label\"]] = df[\"text_clean\"].apply(get_vader_sentiment)\n",
    "\n",
    "# Preview\n",
    "df[[\"company\", \"text_clean\", \"vader_score\", \"vader_label\"]].sample(5)\n"
   ]
  },
  {
   "cell_type": "markdown",
   "id": "a5184669",
   "metadata": {},
   "source": [
    "**Each row now includes two new columns:**\n",
    "\n",
    "- `vader_score`: A numeric sentiment value between -1 (very negative) and +1 (very positive)\n",
    "- `vader_label`: A human-readable classification based on the score:\n",
    "\n",
    "  - **Positive** if score ≥ 0.05\n",
    "  - **Negative** if score ≤ -0.05\n",
    "  - **Neutral** if in between\n",
    "\n",
    "For example:\n",
    "- *A Tesla article with a score of **-0.63** is labeled **negative**, reflecting bearish tone.*\n",
    "- *An Amazon headline scored **0.20** is labeled **positive**, indicating optimistic sentiment.*\n",
    "\n",
    "This helps us quantify how financial news articles emotionally frame events and companies.\n"
   ]
  },
  {
   "cell_type": "markdown",
   "id": "dd6ab280",
   "metadata": {},
   "source": [
    "### VADER Sentiment Distribution by Company\n",
    "\n",
    "To get an overview of sentiment trends, we group the sentiment labels by company and count how many headlines were classified as **positive**, **neutral**, or **negative**.\n",
    "\n"
   ]
  },
  {
   "cell_type": "code",
   "execution_count": 57,
   "id": "61295979",
   "metadata": {},
   "outputs": [
    {
     "data": {
      "image/png": "[encoded data removed]",
      "text/plain": [
       "<Figure size 1000x600 with 1 Axes>"
      ]
     },
     "metadata": {},
     "output_type": "display_data"
    }
   ],
   "source": [
    "# Set up plot style\n",
    "sns.set(style=\"whitegrid\")\n",
    "\n",
    "# Group and count sentiments by company\n",
    "sentiment_counts = df.groupby([\"company\", \"vader_label\"]).size().reset_index(name=\"count\")\n",
    "\n",
    "# Define label order\n",
    "sentiment_order = [\"positive\", \"neutral\", \"negative\"]\n",
    "\n",
    "# Define darker custom colors\n",
    "custom_colors = {\n",
    "    \"positive\": \"#2E8B57\",   # dark green\n",
    "    \"neutral\": \"#FFA500\",    # dark orange\n",
    "    \"negative\": \"#CD5C5C\"    # dark red\n",
    "}\n",
    "\n",
    "# Create bar plot\n",
    "plt.figure(figsize=(10, 6))\n",
    "sns.barplot(\n",
    "    data=sentiment_counts,\n",
    "    x=\"company\",\n",
    "    y=\"count\",\n",
    "    hue=\"vader_label\",\n",
    "    hue_order=sentiment_order,\n",
    "    palette=custom_colors\n",
    ")\n",
    "\n",
    "plt.title(\"VADER Sentiment Distribution per Company\")\n",
    "plt.xlabel(\"Company\")\n",
    "plt.ylabel(\"Number of Articles\")\n",
    "plt.legend(title=\"Sentiment\")\n",
    "plt.tight_layout()\n",
    "plt.show()\n"
   ]
  },
  {
   "cell_type": "markdown",
   "id": "834517d7",
   "metadata": {},
   "source": [
    "- All companies show a strong presence of **positive sentiment** in their news coverage.\n",
    "- **Tesla** and **Nvidia** received the most **negative headlines**, suggesting higher perceived risk or controversy.\n",
    "- **Amazon** stands out with a very small number of neutral or negative headlines, possibly reflecting a more bullish or less volatile news cycle.\n",
    "- **Apple** has a moderate distribution across all three sentiment classes.\n",
    "\n",
    "This helps us understand how media tone varies between companies in the last 90 days and sets a baseline for comparing results with FinBERT next.\n"
   ]
  },
  {
   "cell_type": "markdown",
   "id": "2f0f8206",
   "metadata": {},
   "source": [
    "## Sentiment Analysis with FinBERT <a id='fin_ana'></a>"
   ]
  },
  {
   "cell_type": "markdown",
   "id": "39964b64",
   "metadata": {},
   "source": [
    "\n",
    "\n",
    "To complement VADER, we use **FinBERT**, a transformer-based model trained on financial text. It understands deeper linguistic patterns and domain-specific language better than rule-based tools.\n",
    "\n",
    "**Why FinBERT?**\n",
    "- Trained specifically on financial documents\n",
    "- Can capture subtle nuances (e.g., \"missed earnings expectations\")\n",
    "- Outputs one of three labels: **positive**, **neutral**, or **negative**\n",
    "\n",
    "We'll use the `transformers` library to load the pre-trained model and classify each headline/snippet.\n"
   ]
  },
  {
   "cell_type": "code",
   "execution_count": 71,
   "id": "1164aee1",
   "metadata": {},
   "outputs": [
    {
     "name": "stderr",
     "output_type": "stream",
     "text": [
      "Device set to use cpu\n",
      "100%|██████████| 1783/1783 [01:57<00:00, 15.22it/s]"
     ]
    },
    {
     "name": "stdout",
     "output_type": "stream",
     "text": [
      "finbert_label\n",
      "neutral     661\n",
      "positive    620\n",
      "negative    502\n",
      "Name: count, dtype: int64\n"
     ]
    },
    {
     "name": "stderr",
     "output_type": "stream",
     "text": [
      "\n"
     ]
    },
    {
     "data": {
      "text/html": [
       "<div>\n",
       "<style scoped>\n",
       "    .dataframe tbody tr th:only-of-type {\n",
       "        vertical-align: middle;\n",
       "    }\n",
       "\n",
       "    .dataframe tbody tr th {\n",
       "        vertical-align: top;\n",
       "    }\n",
       "\n",
       "    .dataframe thead th {\n",
       "        text-align: right;\n",
       "    }\n",
       "</style>\n",
       "<table border=\"1\" class=\"dataframe\">\n",
       "  <thead>\n",
       "    <tr style=\"text-align: right;\">\n",
       "      <th></th>\n",
       "      <th>company</th>\n",
       "      <th>text_clean</th>\n",
       "      <th>finbert_label</th>\n",
       "    </tr>\n",
       "  </thead>\n",
       "  <tbody>\n",
       "    <tr>\n",
       "      <th>1364</th>\n",
       "      <td>Nvidia</td>\n",
       "      <td>goldman sachs apple nvidia intel rise premarke...</td>\n",
       "      <td>neutral</td>\n",
       "    </tr>\n",
       "    <tr>\n",
       "      <th>367</th>\n",
       "      <td>Apple</td>\n",
       "      <td>dow jones future tumble sweeping trump tariff ...</td>\n",
       "      <td>negative</td>\n",
       "    </tr>\n",
       "    <tr>\n",
       "      <th>746</th>\n",
       "      <td>Tesla</td>\n",
       "      <td>elon musk wild day big loss wisconsin awful te...</td>\n",
       "      <td>negative</td>\n",
       "    </tr>\n",
       "    <tr>\n",
       "      <th>949</th>\n",
       "      <td>Tesla</td>\n",
       "      <td>tesla tsla stock prediction analysis wall stre...</td>\n",
       "      <td>positive</td>\n",
       "    </tr>\n",
       "    <tr>\n",
       "      <th>411</th>\n",
       "      <td>Tesla</td>\n",
       "      <td>trump say tesla vandal stand good chance going...</td>\n",
       "      <td>positive</td>\n",
       "    </tr>\n",
       "  </tbody>\n",
       "</table>\n",
       "</div>"
      ],
      "text/plain": [
       "     company                                         text_clean finbert_label\n",
       "1364  Nvidia  goldman sachs apple nvidia intel rise premarke...       neutral\n",
       "367    Apple  dow jones future tumble sweeping trump tariff ...      negative\n",
       "746    Tesla  elon musk wild day big loss wisconsin awful te...      negative\n",
       "949    Tesla  tesla tsla stock prediction analysis wall stre...      positive\n",
       "411    Tesla  trump say tesla vandal stand good chance going...      positive"
      ]
     },
     "execution_count": 71,
     "metadata": {},
     "output_type": "execute_result"
    }
   ],
   "source": [
    "# Enables progress_apply\n",
    "tqdm.pandas() \n",
    "\n",
    "# Load FinBERT model\n",
    "model_name = \"yiyanghkust/finbert-tone\"\n",
    "tokenizer = AutoTokenizer.from_pretrained(model_name)\n",
    "model = AutoModelForSequenceClassification.from_pretrained(model_name)\n",
    "\n",
    "# Set up pipeline\n",
    "finbert = pipeline(\"sentiment-analysis\", model=model, tokenizer=tokenizer)\n",
    "\n",
    "# Load your preprocessed file\n",
    "df = pd.read_csv(r\"C:\\Users\\Mustafa Ansari\\Downloads\\news_preprocessed.csv\")\n",
    "df = df[df[\"text_clean\"].notnull()].copy()  # Ensuring no nulls\n",
    "\n",
    "## Setup progress bar + sentiment function\n",
    "def get_finbert_label(text):\n",
    "    try:\n",
    "        result = finbert(text[:512])[0]\n",
    "        return result[\"label\"].lower()\n",
    "    except:\n",
    "        return \"error\"\n",
    "\n",
    "# Apply FinBERT\n",
    "df[\"finbert_label\"] = df[\"text_clean\"].progress_apply(get_finbert_label)\n",
    "\n",
    "\n",
    "# Preview\n",
    "print(df[\"finbert_label\"].value_counts())\n",
    "df[[\"company\", \"text_clean\", \"finbert_label\"]].sample(5)"
   ]
  },
  {
   "cell_type": "markdown",
   "id": "7e85a5b7",
   "metadata": {},
   "source": [
    "### FinBert Sentiment Distribution by Company\n",
    "\n",
    "To get an overview of sentiment trends, we group the sentiment labels by company and count how many headlines were classified as **positive**, **neutral**, or **negative**."
   ]
  },
  {
   "cell_type": "code",
   "execution_count": 56,
   "id": "9cbc8b66",
   "metadata": {},
   "outputs": [
    {
     "data": {
      "image/png": "[encoded data removed]",
      "text/plain": [
       "<Figure size 1000x600 with 1 Axes>"
      ]
     },
     "metadata": {},
     "output_type": "display_data"
    }
   ],
   "source": [
    "# Set up plot style\n",
    "sns.set(style=\"whitegrid\")\n",
    "\n",
    "# Group and count sentiments by company\n",
    "finbert_sentiment_counts = df.groupby([\"company\", \"finbert_label\"]).size().reset_index(name=\"count\")\n",
    "\n",
    "# Define label order\n",
    "sentiment_order = [\"positive\", \"neutral\", \"negative\"]\n",
    "\n",
    "# Define darker custom colors\n",
    "custom_colors = {\n",
    "    \"positive\": \"#2E8B57\",   # dark green\n",
    "    \"neutral\": \"#FFA500\",    # darker orange\n",
    "    \"negative\": \"#CD5C5C\"    # dark red\n",
    "}\n",
    "\n",
    "# Create bar plot\n",
    "plt.figure(figsize=(10, 6))\n",
    "sns.barplot(\n",
    "    data=finbert_sentiment_counts,\n",
    "    x=\"company\",\n",
    "    y=\"count\",\n",
    "    hue=\"finbert_label\",\n",
    "    hue_order=sentiment_order,\n",
    "    palette=custom_colors\n",
    ")\n",
    "\n",
    "plt.title(\"FinBERT Sentiment Distribution per Company\")\n",
    "plt.xlabel(\"Company\")\n",
    "plt.ylabel(\"Number of Articles\")\n",
    "plt.legend(title=\"Sentiment\")\n",
    "plt.tight_layout()\n",
    "plt.show()\n"
   ]
  },
  {
   "cell_type": "markdown",
   "id": "333f88ec",
   "metadata": {},
   "source": [
    "- **Tesla** shows the **highest number of negative headlines**, indicating potentially riskier or more controversial media coverage in the financial domain.\n",
    "- **Nvidia** also has a noticeable amount of **negative sentiment**, though positive sentiment remains dominant.\n",
    "- **Apple** displays a well-balanced distribution across **positive**, **neutral**, and **negative** tones, reflecting diverse media narratives.\n",
    "- **Amazon** has almost equal proportions of **positive** and **neutral** sentiment, with relatively low negativity - suggesting stable or less polarizing news.\n"
   ]
  },
  {
   "cell_type": "markdown",
   "id": "88a4c270",
   "metadata": {},
   "source": [
    "## Comparison of Sentiments: VADER vs FinBert <a id='Sen_Comp'></a>"
   ]
  },
  {
   "cell_type": "markdown",
   "id": "8c3e7dfd",
   "metadata": {},
   "source": [
    "Now that all financial news headlines are classified using both **VADER** and **FinBERT**, I would like to compare their sentiment predictions.\n",
    "\n",
    "- **VADER** is a lexicon-based tool designed for social media and short text.\n",
    "- **FinBERT** is a domain-specific transformer trained on financial texts.\n",
    "\n",
    "This comparison highlights:\n",
    "- How often the tools agree\n",
    "- Where they differ (and possibly why)\n",
    "- Overall sentiment distribution across models"
   ]
  },
  {
   "cell_type": "markdown",
   "id": "c2bb7dd7",
   "metadata": {},
   "source": [
    "### Sentiment Distribution Side-by-Side"
   ]
  },
  {
   "cell_type": "code",
   "execution_count": 48,
   "id": "5831f9ff",
   "metadata": {},
   "outputs": [
    {
     "data": {
      "image/png": "[encoded data removed]",
      "text/plain": [
       "<Figure size 800x500 with 1 Axes>"
      ]
     },
     "metadata": {},
     "output_type": "display_data"
    }
   ],
   "source": [
    "# Count sentiment labels\n",
    "vader_counts = df[\"vader_label\"].value_counts().sort_index()\n",
    "finbert_counts = df[\"finbert_label\"].value_counts().sort_index()\n",
    "\n",
    "# Combine into one DataFrame for plotting\n",
    "comparison_df = pd.DataFrame({\n",
    "    \"VADER\": vader_counts,\n",
    "    \"FinBERT\": finbert_counts\n",
    "})\n",
    "\n",
    "# Plot\n",
    "comparison_df.plot(kind=\"bar\", figsize=(8, 5), rot=0)\n",
    "plt.title(\"Sentiment Distribution: VADER vs FinBERT\")\n",
    "plt.ylabel(\"Number of Headlines\")\n",
    "plt.xlabel(\"Sentiment Label\")\n",
    "plt.grid(axis=\"y\")\n",
    "plt.tight_layout()\n",
    "plt.show()\n"
   ]
  },
  {
   "cell_type": "markdown",
   "id": "ee3cf9e8",
   "metadata": {},
   "source": [
    "The bar chart above shows the overall sentiment distribution predicted by both VADER and FinBERT:\n",
    "\n",
    "- **VADER** tends to classify a large majority of headlines as **positive**.\n",
    "- **FinBERT**, in contrast, assigns more **neutral** labels and distributes sentiments more evenly.\n",
    "- This highlights FinBERT's domain-specific calibration — it avoids being overly optimistic and is more conservative in financial sentiment judgment.\n"
   ]
  },
  {
   "cell_type": "markdown",
   "id": "730ca9f4",
   "metadata": {},
   "source": [
    "### Agreement/Disagreement Matrix"
   ]
  },
  {
   "cell_type": "code",
   "execution_count": 49,
   "id": "e01dd54d",
   "metadata": {},
   "outputs": [
    {
     "name": "stdout",
     "output_type": "stream",
     "text": [
      "VADER vs FinBERT Agreement Matrix:\n"
     ]
    },
    {
     "data": {
      "text/html": [
       "<div>\n",
       "<style scoped>\n",
       "    .dataframe tbody tr th:only-of-type {\n",
       "        vertical-align: middle;\n",
       "    }\n",
       "\n",
       "    .dataframe tbody tr th {\n",
       "        vertical-align: top;\n",
       "    }\n",
       "\n",
       "    .dataframe thead th {\n",
       "        text-align: right;\n",
       "    }\n",
       "</style>\n",
       "<table border=\"1\" class=\"dataframe\">\n",
       "  <thead>\n",
       "    <tr style=\"text-align: right;\">\n",
       "      <th>finbert_label</th>\n",
       "      <th>negative</th>\n",
       "      <th>neutral</th>\n",
       "      <th>positive</th>\n",
       "    </tr>\n",
       "    <tr>\n",
       "      <th>vader_label</th>\n",
       "      <th></th>\n",
       "      <th></th>\n",
       "      <th></th>\n",
       "    </tr>\n",
       "  </thead>\n",
       "  <tbody>\n",
       "    <tr>\n",
       "      <th>negative</th>\n",
       "      <td>281</td>\n",
       "      <td>149</td>\n",
       "      <td>92</td>\n",
       "    </tr>\n",
       "    <tr>\n",
       "      <th>neutral</th>\n",
       "      <td>40</td>\n",
       "      <td>101</td>\n",
       "      <td>58</td>\n",
       "    </tr>\n",
       "    <tr>\n",
       "      <th>positive</th>\n",
       "      <td>181</td>\n",
       "      <td>411</td>\n",
       "      <td>470</td>\n",
       "    </tr>\n",
       "  </tbody>\n",
       "</table>\n",
       "</div>"
      ],
      "text/plain": [
       "finbert_label  negative  neutral  positive\n",
       "vader_label                               \n",
       "negative            281      149        92\n",
       "neutral              40      101        58\n",
       "positive            181      411       470"
      ]
     },
     "metadata": {},
     "output_type": "display_data"
    }
   ],
   "source": [
    "# Cross-tab to compare predictions\n",
    "agreement = pd.crosstab(df[\"vader_label\"], df[\"finbert_label\"])\n",
    "\n",
    "# Show it\n",
    "print(\"VADER vs FinBERT Agreement Matrix:\")\n",
    "display(agreement)\n"
   ]
  },
  {
   "cell_type": "code",
   "execution_count": 51,
   "id": "cc5ae976",
   "metadata": {},
   "outputs": [
    {
     "data": {
      "image/png": "[encoded data removed]",
      "text/plain": [
       "<Figure size 600x400 with 2 Axes>"
      ]
     },
     "metadata": {},
     "output_type": "display_data"
    }
   ],
   "source": [
    "plt.figure(figsize=(6, 4))\n",
    "sns.heatmap(agreement, annot=True, fmt='d', cmap=\"Blues\")\n",
    "plt.title(\"VADER vs FinBERT Sentiment Agreement\")\n",
    "plt.ylabel(\"VADER\")\n",
    "plt.xlabel(\"FinBERT\")\n",
    "plt.tight_layout()\n",
    "plt.show()\n"
   ]
  },
  {
   "cell_type": "markdown",
   "id": "b87b4424",
   "metadata": {},
   "source": [
    "Key takeaways:\n",
    "\n",
    "- **470 headlines** were **labeled positive by both** VADER and FinBERT — showing high agreement.\n",
    "- VADER labeled **181 headlines as positive** that FinBERT marked **as negative**, which may indicate over-optimism from VADER.\n",
    "- FinBERT labeled **149 VADER-negative headlines as neutral**, suggesting FinBERT avoids extreme sentiment unless strongly implied.\n",
    "- FinBERT appears more cautious and nuanced — more in line with financial tone expectations.\n",
    "\n",
    "This comparison shows the importance of using a **domain-specific model like FinBERT** when dealing with financial sentiment analysis."
   ]
  },
  {
   "cell_type": "markdown",
   "id": "12d14d2e",
   "metadata": {},
   "source": [
    "### Sample Disagreements"
   ]
  },
  {
   "cell_type": "code",
   "execution_count": null,
   "id": "2e860e9e",
   "metadata": {},
   "outputs": [
    {
     "data": {
      "text/html": [
       "<div>\n",
       "<style scoped>\n",
       "    .dataframe tbody tr th:only-of-type {\n",
       "        vertical-align: middle;\n",
       "    }\n",
       "\n",
       "    .dataframe tbody tr th {\n",
       "        vertical-align: top;\n",
       "    }\n",
       "\n",
       "    .dataframe thead th {\n",
       "        text-align: right;\n",
       "    }\n",
       "</style>\n",
       "<table border=\"1\" class=\"dataframe\">\n",
       "  <thead>\n",
       "    <tr style=\"text-align: right;\">\n",
       "      <th></th>\n",
       "      <th>company</th>\n",
       "      <th>text_clean</th>\n",
       "      <th>vader_label</th>\n",
       "      <th>finbert_label</th>\n",
       "    </tr>\n",
       "  </thead>\n",
       "  <tbody>\n",
       "    <tr>\n",
       "      <th>892</th>\n",
       "      <td>Tesla</td>\n",
       "      <td>elon musk officially billion poorer peak tesla...</td>\n",
       "      <td>negative</td>\n",
       "      <td>neutral</td>\n",
       "    </tr>\n",
       "    <tr>\n",
       "      <th>691</th>\n",
       "      <td>Tesla</td>\n",
       "      <td>tesla cfo board member offload million stock t...</td>\n",
       "      <td>positive</td>\n",
       "      <td>neutral</td>\n",
       "    </tr>\n",
       "    <tr>\n",
       "      <th>781</th>\n",
       "      <td>Tesla</td>\n",
       "      <td>tesla stock extends rally delivery data earnin...</td>\n",
       "      <td>positive</td>\n",
       "      <td>neutral</td>\n",
       "    </tr>\n",
       "    <tr>\n",
       "      <th>806</th>\n",
       "      <td>Tesla</td>\n",
       "      <td>finally time buy tesla stock tesla tsla share ...</td>\n",
       "      <td>negative</td>\n",
       "      <td>positive</td>\n",
       "    </tr>\n",
       "    <tr>\n",
       "      <th>1463</th>\n",
       "      <td>Amazon</td>\n",
       "      <td>amazon stock sinking today amazon amzn stock h...</td>\n",
       "      <td>positive</td>\n",
       "      <td>negative</td>\n",
       "    </tr>\n",
       "  </tbody>\n",
       "</table>\n",
       "</div>"
      ],
      "text/plain": [
       "     company                                         text_clean vader_label  \\\n",
       "892    Tesla  elon musk officially billion poorer peak tesla...    negative   \n",
       "691    Tesla  tesla cfo board member offload million stock t...    positive   \n",
       "781    Tesla  tesla stock extends rally delivery data earnin...    positive   \n",
       "806    Tesla  finally time buy tesla stock tesla tsla share ...    negative   \n",
       "1463  Amazon  amazon stock sinking today amazon amzn stock h...    positive   \n",
       "\n",
       "     finbert_label  \n",
       "892        neutral  \n",
       "691        neutral  \n",
       "781        neutral  \n",
       "806       positive  \n",
       "1463      negative  "
      ]
     },
     "execution_count": 53,
     "metadata": {},
     "output_type": "execute_result"
    }
   ],
   "source": [
    "# Show a few headlines where they disagreed\n",
    "\n",
    "disagreements = df[df[\"vader_label\"] != df[\"finbert_label\"]]\n",
    "disagreements[[\"company\", \"text_clean\", \"vader_label\", \"finbert_label\"]].sample(5)\n"
   ]
  },
  {
   "cell_type": "markdown",
   "id": "f31e9771",
   "metadata": {},
   "source": [
    "## Named Entity Recognition (NER) <a id='name_reco'></a>"
   ]
  },
  {
   "cell_type": "markdown",
   "id": "1625183d",
   "metadata": {},
   "source": [
    "We use `spaCy`'s transformer-based language model to extract **named entities** from each news headline.\n",
    "This helps identify which organizations, people, or products are mentioned in each article and also to explore which entities are most frequently associated with positive or negative sentiment.\n"
   ]
  },
  {
   "cell_type": "code",
   "execution_count": null,
   "id": "5b5a28a5",
   "metadata": {},
   "outputs": [
    {
     "name": "stderr",
     "output_type": "stream",
     "text": [
      "100%|██████████| 1783/1783 [00:14<00:00, 125.10it/s]"
     ]
    },
    {
     "name": "stdout",
     "output_type": "stream",
     "text": [
      "Top 10 Named Entity Types:\n",
      "[('DATE', 1296), ('ORG', 976), ('PERSON', 457), ('CARDINAL', 283), ('GPE', 234), ('NORP', 90), ('TIME', 79), ('ORDINAL', 68), ('LOC', 21), ('MONEY', 12)]\n"
     ]
    },
    {
     "name": "stderr",
     "output_type": "stream",
     "text": [
      "\n"
     ]
    }
   ],
   "source": [
    "# Load the lightweight spaCy NER model\n",
    "nlp = spacy.load(\"en_core_web_sm\")\n",
    "\n",
    "# Load your cleaned dataset\n",
    "df = pd.read_csv(r\"C:\\Users\\Mustafa Ansari\\Downloads\\news_preprocessed.csv\")\n",
    "df = df[df[\"text_clean\"].notnull()].copy()\n",
    "\n",
    "# Extract entities\n",
    "def extract_entities(text):\n",
    "    doc = nlp(text)\n",
    "    return [(ent.text, ent.label_) for ent in doc.ents]\n",
    "\n",
    "# Apply to headlines\n",
    "df[\"named_entities\"] = df[\"text_clean\"].progress_apply(extract_entities)\n",
    "\n",
    "# Flatten and count entity labels\n",
    "all_entities = [label for ents in df[\"named_entities\"] for (_, label) in ents]\n",
    "entity_freq = Counter(all_entities)\n",
    "\n",
    "# Display top 10\n",
    "print(\"Top 10 Named Entity Types:\")\n",
    "print(entity_freq.most_common(10))\n"
   ]
  },
  {
   "cell_type": "markdown",
   "id": "dedc8ec8",
   "metadata": {},
   "source": [
    "### Entity Frequency by Sentiment Label"
   ]
  },
  {
   "cell_type": "markdown",
   "id": "46a4c4a2",
   "metadata": {},
   "source": [
    "To better understand the relationship between entities mentioned in headlines and the tone of the article, we count how often entities of each type appear under each sentiment class.This helps us detect patterns, such as:\n",
    "\n",
    "1. Do headlines mentioning organizations tend to be more negative?\n",
    "\n",
    "2. Are people often mentioned in positive or neutral contexts?"
   ]
  },
  {
   "cell_type": "code",
   "execution_count": 72,
   "id": "13da900e",
   "metadata": {},
   "outputs": [
    {
     "data": {
      "image/png": "[encoded data removed]",
      "text/plain": [
       "<Figure size 1200x700 with 1 Axes>"
      ]
     },
     "metadata": {},
     "output_type": "display_data"
    }
   ],
   "source": [
    "# Load small English model (for faster batch processing)\n",
    "nlp = spacy.load(\"en_core_web_sm\")\n",
    "\n",
    "# Only keep necessary columns and drop rows with nulls\n",
    "df_entities = df[[\"text_clean\", \"finbert_label\"]].dropna()\n",
    "\n",
    "# Process headlines and extract (ent.label_, finbert_label) pairs\n",
    "entity_sentiment_pairs = []\n",
    "\n",
    "for doc, label in zip(nlp.pipe(df_entities[\"text_clean\"], batch_size=50), df_entities[\"finbert_label\"]):\n",
    "    for ent in doc.ents:\n",
    "        entity_sentiment_pairs.append((ent.label_, label))\n",
    "\n",
    "# Convert to DataFrame\n",
    "entity_df = pd.DataFrame(entity_sentiment_pairs, columns=[\"entity_type\", \"sentiment\"])\n",
    "\n",
    "# Count occurrences\n",
    "entity_counts = entity_df.groupby([\"entity_type\", \"sentiment\"]).size().reset_index(name=\"count\")\n",
    "\n",
    "# Sort entity types by total frequency\n",
    "top_entity_types = entity_df[\"entity_type\"].value_counts().head(8).index\n",
    "filtered_counts = entity_counts[entity_counts[\"entity_type\"].isin(top_entity_types)]\n",
    "\n",
    "# Set seaborn style\n",
    "sns.set(style=\"whitegrid\")\n",
    "\n",
    "# Plot\n",
    "plt.figure(figsize=(12, 7))\n",
    "sns.barplot(\n",
    "    data=filtered_counts,\n",
    "    x=\"entity_type\",\n",
    "    y=\"count\",\n",
    "    hue=\"sentiment\",\n",
    "    hue_order=[\"positive\", \"neutral\", \"negative\"],\n",
    "    palette={\"positive\": \"green\", \"neutral\": \"darkorange\", \"negative\": \"red\"}\n",
    ")\n",
    "plt.title(\"Top Entity Types by FinBERT Sentiment\")\n",
    "plt.xlabel(\"Entity Type\")\n",
    "plt.ylabel(\"Frequency\")\n",
    "plt.legend(title=\"Sentiment\")\n",
    "plt.tight_layout()\n",
    "plt.show()\n"
   ]
  },
  {
   "cell_type": "markdown",
   "id": "ecafb882",
   "metadata": {},
   "source": [
    "\n",
    "`DATE` and `ORG` are the most frequently mentioned entities across all sentiment labels, showing their **central role** in financial reporting.\n",
    "\n",
    "`ORG` (Organizations) lean more towards **positive** and **neutral** sentiment, suggesting company-related headlines often report earnings, expansions, or product launches.\n",
    "\n",
    "`PERSON` entities show more **neutral** sentiment, likely due to quotes or statements from executives or analysts.\n",
    "\n",
    "`CARDINAL`, `ORDINAL`, and `TIME` often appear across sentiment labels—indicating that numerical references (e.g., revenue, rank, time periods) are core components of financial news but don’t inherently carry polarity.\n",
    "\n",
    "`GPE` (Countries/Regions) and `NORP` (Nationalities/Groups) show up mostly in **neutral** to negative sentiment, hinting at discussions around macroeconomic or geopolitical concerns.\n",
    "\n"
   ]
  }
 ],
 "metadata": {
  "kernelspec": {
   "display_name": "finbert_env",
   "language": "python",
   "name": "python3"
  },
  "language_info": {
   "codemirror_mode": {
    "name": "ipython",
    "version": 3
   },
   "file_extension": ".py",
   "mimetype": "text/x-python",
   "name": "python",
   "nbconvert_exporter": "python",
   "pygments_lexer": "ipython3",
   "version": "3.12.7"
  }
 },
 "nbformat": 4,
 "nbformat_minor": 5
}
